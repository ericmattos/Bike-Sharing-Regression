{
 "cells": [
  {
   "cell_type": "markdown",
   "id": "80bf72d7",
   "metadata": {},
   "source": [
    "# Bike Sharing - Regression"
   ]
  },
  {
   "cell_type": "code",
   "execution_count": 1,
   "id": "949bf1fe",
   "metadata": {},
   "outputs": [],
   "source": [
    "import pandas as pd\n",
    "import numpy as np\n",
    "import seaborn as sns\n",
    "import matplotlib.pyplot as plt\n",
    "import pickle\n",
    "from sklearn.preprocessing import StandardScaler\n",
    "from sklearn.preprocessing import PolynomialFeatures\n",
    "from sklearn.linear_model import LinearRegression\n",
    "from sklearn.tree import DecisionTreeRegressor\n",
    "from sklearn.ensemble import RandomForestRegressor\n",
    "from sklearn.svm import SVR\n",
    "from sklearn.neural_network import MLPRegressor\n",
    "from sklearn.model_selection import GridSearchCV\n",
    "from sklearn.model_selection import cross_val_score, KFold\n",
    "from scipy.stats import shapiro, f_oneway\n",
    "from statsmodels.stats.multicomp import MultiComparison"
   ]
  },
  {
   "cell_type": "markdown",
   "id": "ed235286",
   "metadata": {},
   "source": [
    "## 1) Exploratory Data Analysis"
   ]
  },
  {
   "cell_type": "markdown",
   "id": "579e943e",
   "metadata": {},
   "source": [
    "We begin by loading the data into a pandas data frame."
   ]
  },
  {
   "cell_type": "code",
   "execution_count": 2,
   "id": "486219a3",
   "metadata": {},
   "outputs": [
    {
     "data": {
      "text/html": [
       "<div>\n",
       "<style scoped>\n",
       "    .dataframe tbody tr th:only-of-type {\n",
       "        vertical-align: middle;\n",
       "    }\n",
       "\n",
       "    .dataframe tbody tr th {\n",
       "        vertical-align: top;\n",
       "    }\n",
       "\n",
       "    .dataframe thead th {\n",
       "        text-align: right;\n",
       "    }\n",
       "</style>\n",
       "<table border=\"1\" class=\"dataframe\">\n",
       "  <thead>\n",
       "    <tr style=\"text-align: right;\">\n",
       "      <th></th>\n",
       "      <th>instant</th>\n",
       "      <th>dteday</th>\n",
       "      <th>season</th>\n",
       "      <th>yr</th>\n",
       "      <th>mnth</th>\n",
       "      <th>holiday</th>\n",
       "      <th>weekday</th>\n",
       "      <th>workingday</th>\n",
       "      <th>weathersit</th>\n",
       "      <th>temp</th>\n",
       "      <th>atemp</th>\n",
       "      <th>hum</th>\n",
       "      <th>windspeed</th>\n",
       "      <th>casual</th>\n",
       "      <th>registered</th>\n",
       "      <th>cnt</th>\n",
       "    </tr>\n",
       "  </thead>\n",
       "  <tbody>\n",
       "    <tr>\n",
       "      <th>0</th>\n",
       "      <td>1</td>\n",
       "      <td>2011-01-01</td>\n",
       "      <td>1</td>\n",
       "      <td>0</td>\n",
       "      <td>1</td>\n",
       "      <td>0</td>\n",
       "      <td>6</td>\n",
       "      <td>0</td>\n",
       "      <td>2</td>\n",
       "      <td>0.344167</td>\n",
       "      <td>0.363625</td>\n",
       "      <td>0.805833</td>\n",
       "      <td>0.160446</td>\n",
       "      <td>331</td>\n",
       "      <td>654</td>\n",
       "      <td>985</td>\n",
       "    </tr>\n",
       "    <tr>\n",
       "      <th>1</th>\n",
       "      <td>2</td>\n",
       "      <td>2011-01-02</td>\n",
       "      <td>1</td>\n",
       "      <td>0</td>\n",
       "      <td>1</td>\n",
       "      <td>0</td>\n",
       "      <td>0</td>\n",
       "      <td>0</td>\n",
       "      <td>2</td>\n",
       "      <td>0.363478</td>\n",
       "      <td>0.353739</td>\n",
       "      <td>0.696087</td>\n",
       "      <td>0.248539</td>\n",
       "      <td>131</td>\n",
       "      <td>670</td>\n",
       "      <td>801</td>\n",
       "    </tr>\n",
       "    <tr>\n",
       "      <th>2</th>\n",
       "      <td>3</td>\n",
       "      <td>2011-01-03</td>\n",
       "      <td>1</td>\n",
       "      <td>0</td>\n",
       "      <td>1</td>\n",
       "      <td>0</td>\n",
       "      <td>1</td>\n",
       "      <td>1</td>\n",
       "      <td>1</td>\n",
       "      <td>0.196364</td>\n",
       "      <td>0.189405</td>\n",
       "      <td>0.437273</td>\n",
       "      <td>0.248309</td>\n",
       "      <td>120</td>\n",
       "      <td>1229</td>\n",
       "      <td>1349</td>\n",
       "    </tr>\n",
       "    <tr>\n",
       "      <th>3</th>\n",
       "      <td>4</td>\n",
       "      <td>2011-01-04</td>\n",
       "      <td>1</td>\n",
       "      <td>0</td>\n",
       "      <td>1</td>\n",
       "      <td>0</td>\n",
       "      <td>2</td>\n",
       "      <td>1</td>\n",
       "      <td>1</td>\n",
       "      <td>0.200000</td>\n",
       "      <td>0.212122</td>\n",
       "      <td>0.590435</td>\n",
       "      <td>0.160296</td>\n",
       "      <td>108</td>\n",
       "      <td>1454</td>\n",
       "      <td>1562</td>\n",
       "    </tr>\n",
       "    <tr>\n",
       "      <th>4</th>\n",
       "      <td>5</td>\n",
       "      <td>2011-01-05</td>\n",
       "      <td>1</td>\n",
       "      <td>0</td>\n",
       "      <td>1</td>\n",
       "      <td>0</td>\n",
       "      <td>3</td>\n",
       "      <td>1</td>\n",
       "      <td>1</td>\n",
       "      <td>0.226957</td>\n",
       "      <td>0.229270</td>\n",
       "      <td>0.436957</td>\n",
       "      <td>0.186900</td>\n",
       "      <td>82</td>\n",
       "      <td>1518</td>\n",
       "      <td>1600</td>\n",
       "    </tr>\n",
       "    <tr>\n",
       "      <th>...</th>\n",
       "      <td>...</td>\n",
       "      <td>...</td>\n",
       "      <td>...</td>\n",
       "      <td>...</td>\n",
       "      <td>...</td>\n",
       "      <td>...</td>\n",
       "      <td>...</td>\n",
       "      <td>...</td>\n",
       "      <td>...</td>\n",
       "      <td>...</td>\n",
       "      <td>...</td>\n",
       "      <td>...</td>\n",
       "      <td>...</td>\n",
       "      <td>...</td>\n",
       "      <td>...</td>\n",
       "      <td>...</td>\n",
       "    </tr>\n",
       "    <tr>\n",
       "      <th>726</th>\n",
       "      <td>727</td>\n",
       "      <td>2012-12-27</td>\n",
       "      <td>1</td>\n",
       "      <td>1</td>\n",
       "      <td>12</td>\n",
       "      <td>0</td>\n",
       "      <td>4</td>\n",
       "      <td>1</td>\n",
       "      <td>2</td>\n",
       "      <td>0.254167</td>\n",
       "      <td>0.226642</td>\n",
       "      <td>0.652917</td>\n",
       "      <td>0.350133</td>\n",
       "      <td>247</td>\n",
       "      <td>1867</td>\n",
       "      <td>2114</td>\n",
       "    </tr>\n",
       "    <tr>\n",
       "      <th>727</th>\n",
       "      <td>728</td>\n",
       "      <td>2012-12-28</td>\n",
       "      <td>1</td>\n",
       "      <td>1</td>\n",
       "      <td>12</td>\n",
       "      <td>0</td>\n",
       "      <td>5</td>\n",
       "      <td>1</td>\n",
       "      <td>2</td>\n",
       "      <td>0.253333</td>\n",
       "      <td>0.255046</td>\n",
       "      <td>0.590000</td>\n",
       "      <td>0.155471</td>\n",
       "      <td>644</td>\n",
       "      <td>2451</td>\n",
       "      <td>3095</td>\n",
       "    </tr>\n",
       "    <tr>\n",
       "      <th>728</th>\n",
       "      <td>729</td>\n",
       "      <td>2012-12-29</td>\n",
       "      <td>1</td>\n",
       "      <td>1</td>\n",
       "      <td>12</td>\n",
       "      <td>0</td>\n",
       "      <td>6</td>\n",
       "      <td>0</td>\n",
       "      <td>2</td>\n",
       "      <td>0.253333</td>\n",
       "      <td>0.242400</td>\n",
       "      <td>0.752917</td>\n",
       "      <td>0.124383</td>\n",
       "      <td>159</td>\n",
       "      <td>1182</td>\n",
       "      <td>1341</td>\n",
       "    </tr>\n",
       "    <tr>\n",
       "      <th>729</th>\n",
       "      <td>730</td>\n",
       "      <td>2012-12-30</td>\n",
       "      <td>1</td>\n",
       "      <td>1</td>\n",
       "      <td>12</td>\n",
       "      <td>0</td>\n",
       "      <td>0</td>\n",
       "      <td>0</td>\n",
       "      <td>1</td>\n",
       "      <td>0.255833</td>\n",
       "      <td>0.231700</td>\n",
       "      <td>0.483333</td>\n",
       "      <td>0.350754</td>\n",
       "      <td>364</td>\n",
       "      <td>1432</td>\n",
       "      <td>1796</td>\n",
       "    </tr>\n",
       "    <tr>\n",
       "      <th>730</th>\n",
       "      <td>731</td>\n",
       "      <td>2012-12-31</td>\n",
       "      <td>1</td>\n",
       "      <td>1</td>\n",
       "      <td>12</td>\n",
       "      <td>0</td>\n",
       "      <td>1</td>\n",
       "      <td>1</td>\n",
       "      <td>2</td>\n",
       "      <td>0.215833</td>\n",
       "      <td>0.223487</td>\n",
       "      <td>0.577500</td>\n",
       "      <td>0.154846</td>\n",
       "      <td>439</td>\n",
       "      <td>2290</td>\n",
       "      <td>2729</td>\n",
       "    </tr>\n",
       "  </tbody>\n",
       "</table>\n",
       "<p>731 rows × 16 columns</p>\n",
       "</div>"
      ],
      "text/plain": [
       "     instant      dteday  season  yr  mnth  holiday  weekday  workingday  \\\n",
       "0          1  2011-01-01       1   0     1        0        6           0   \n",
       "1          2  2011-01-02       1   0     1        0        0           0   \n",
       "2          3  2011-01-03       1   0     1        0        1           1   \n",
       "3          4  2011-01-04       1   0     1        0        2           1   \n",
       "4          5  2011-01-05       1   0     1        0        3           1   \n",
       "..       ...         ...     ...  ..   ...      ...      ...         ...   \n",
       "726      727  2012-12-27       1   1    12        0        4           1   \n",
       "727      728  2012-12-28       1   1    12        0        5           1   \n",
       "728      729  2012-12-29       1   1    12        0        6           0   \n",
       "729      730  2012-12-30       1   1    12        0        0           0   \n",
       "730      731  2012-12-31       1   1    12        0        1           1   \n",
       "\n",
       "     weathersit      temp     atemp       hum  windspeed  casual  registered  \\\n",
       "0             2  0.344167  0.363625  0.805833   0.160446     331         654   \n",
       "1             2  0.363478  0.353739  0.696087   0.248539     131         670   \n",
       "2             1  0.196364  0.189405  0.437273   0.248309     120        1229   \n",
       "3             1  0.200000  0.212122  0.590435   0.160296     108        1454   \n",
       "4             1  0.226957  0.229270  0.436957   0.186900      82        1518   \n",
       "..          ...       ...       ...       ...        ...     ...         ...   \n",
       "726           2  0.254167  0.226642  0.652917   0.350133     247        1867   \n",
       "727           2  0.253333  0.255046  0.590000   0.155471     644        2451   \n",
       "728           2  0.253333  0.242400  0.752917   0.124383     159        1182   \n",
       "729           1  0.255833  0.231700  0.483333   0.350754     364        1432   \n",
       "730           2  0.215833  0.223487  0.577500   0.154846     439        2290   \n",
       "\n",
       "      cnt  \n",
       "0     985  \n",
       "1     801  \n",
       "2    1349  \n",
       "3    1562  \n",
       "4    1600  \n",
       "..    ...  \n",
       "726  2114  \n",
       "727  3095  \n",
       "728  1341  \n",
       "729  1796  \n",
       "730  2729  \n",
       "\n",
       "[731 rows x 16 columns]"
      ]
     },
     "execution_count": 2,
     "metadata": {},
     "output_type": "execute_result"
    }
   ],
   "source": [
    "df = pd.read_csv('bike_sharing_day.csv')\n",
    "df"
   ]
  },
  {
   "cell_type": "markdown",
   "id": "1004e53a",
   "metadata": {},
   "source": [
    "To begin our analysis, we use the describe command."
   ]
  },
  {
   "cell_type": "code",
   "execution_count": 3,
   "id": "dbc1ba11",
   "metadata": {},
   "outputs": [
    {
     "data": {
      "text/html": [
       "<div>\n",
       "<style scoped>\n",
       "    .dataframe tbody tr th:only-of-type {\n",
       "        vertical-align: middle;\n",
       "    }\n",
       "\n",
       "    .dataframe tbody tr th {\n",
       "        vertical-align: top;\n",
       "    }\n",
       "\n",
       "    .dataframe thead th {\n",
       "        text-align: right;\n",
       "    }\n",
       "</style>\n",
       "<table border=\"1\" class=\"dataframe\">\n",
       "  <thead>\n",
       "    <tr style=\"text-align: right;\">\n",
       "      <th></th>\n",
       "      <th>instant</th>\n",
       "      <th>season</th>\n",
       "      <th>yr</th>\n",
       "      <th>mnth</th>\n",
       "      <th>holiday</th>\n",
       "      <th>weekday</th>\n",
       "      <th>workingday</th>\n",
       "      <th>weathersit</th>\n",
       "      <th>temp</th>\n",
       "      <th>atemp</th>\n",
       "      <th>hum</th>\n",
       "      <th>windspeed</th>\n",
       "      <th>casual</th>\n",
       "      <th>registered</th>\n",
       "      <th>cnt</th>\n",
       "    </tr>\n",
       "  </thead>\n",
       "  <tbody>\n",
       "    <tr>\n",
       "      <th>count</th>\n",
       "      <td>731.000000</td>\n",
       "      <td>731.000000</td>\n",
       "      <td>731.000000</td>\n",
       "      <td>731.000000</td>\n",
       "      <td>731.000000</td>\n",
       "      <td>731.000000</td>\n",
       "      <td>731.000000</td>\n",
       "      <td>731.000000</td>\n",
       "      <td>731.000000</td>\n",
       "      <td>731.000000</td>\n",
       "      <td>731.000000</td>\n",
       "      <td>731.000000</td>\n",
       "      <td>731.000000</td>\n",
       "      <td>731.000000</td>\n",
       "      <td>731.000000</td>\n",
       "    </tr>\n",
       "    <tr>\n",
       "      <th>mean</th>\n",
       "      <td>366.000000</td>\n",
       "      <td>2.496580</td>\n",
       "      <td>0.500684</td>\n",
       "      <td>6.519836</td>\n",
       "      <td>0.028728</td>\n",
       "      <td>2.997264</td>\n",
       "      <td>0.683995</td>\n",
       "      <td>1.395349</td>\n",
       "      <td>0.495385</td>\n",
       "      <td>0.474354</td>\n",
       "      <td>0.627894</td>\n",
       "      <td>0.190486</td>\n",
       "      <td>848.176471</td>\n",
       "      <td>3656.172367</td>\n",
       "      <td>4504.348837</td>\n",
       "    </tr>\n",
       "    <tr>\n",
       "      <th>std</th>\n",
       "      <td>211.165812</td>\n",
       "      <td>1.110807</td>\n",
       "      <td>0.500342</td>\n",
       "      <td>3.451913</td>\n",
       "      <td>0.167155</td>\n",
       "      <td>2.004787</td>\n",
       "      <td>0.465233</td>\n",
       "      <td>0.544894</td>\n",
       "      <td>0.183051</td>\n",
       "      <td>0.162961</td>\n",
       "      <td>0.142429</td>\n",
       "      <td>0.077498</td>\n",
       "      <td>686.622488</td>\n",
       "      <td>1560.256377</td>\n",
       "      <td>1937.211452</td>\n",
       "    </tr>\n",
       "    <tr>\n",
       "      <th>min</th>\n",
       "      <td>1.000000</td>\n",
       "      <td>1.000000</td>\n",
       "      <td>0.000000</td>\n",
       "      <td>1.000000</td>\n",
       "      <td>0.000000</td>\n",
       "      <td>0.000000</td>\n",
       "      <td>0.000000</td>\n",
       "      <td>1.000000</td>\n",
       "      <td>0.059130</td>\n",
       "      <td>0.079070</td>\n",
       "      <td>0.000000</td>\n",
       "      <td>0.022392</td>\n",
       "      <td>2.000000</td>\n",
       "      <td>20.000000</td>\n",
       "      <td>22.000000</td>\n",
       "    </tr>\n",
       "    <tr>\n",
       "      <th>25%</th>\n",
       "      <td>183.500000</td>\n",
       "      <td>2.000000</td>\n",
       "      <td>0.000000</td>\n",
       "      <td>4.000000</td>\n",
       "      <td>0.000000</td>\n",
       "      <td>1.000000</td>\n",
       "      <td>0.000000</td>\n",
       "      <td>1.000000</td>\n",
       "      <td>0.337083</td>\n",
       "      <td>0.337842</td>\n",
       "      <td>0.520000</td>\n",
       "      <td>0.134950</td>\n",
       "      <td>315.500000</td>\n",
       "      <td>2497.000000</td>\n",
       "      <td>3152.000000</td>\n",
       "    </tr>\n",
       "    <tr>\n",
       "      <th>50%</th>\n",
       "      <td>366.000000</td>\n",
       "      <td>3.000000</td>\n",
       "      <td>1.000000</td>\n",
       "      <td>7.000000</td>\n",
       "      <td>0.000000</td>\n",
       "      <td>3.000000</td>\n",
       "      <td>1.000000</td>\n",
       "      <td>1.000000</td>\n",
       "      <td>0.498333</td>\n",
       "      <td>0.486733</td>\n",
       "      <td>0.626667</td>\n",
       "      <td>0.180975</td>\n",
       "      <td>713.000000</td>\n",
       "      <td>3662.000000</td>\n",
       "      <td>4548.000000</td>\n",
       "    </tr>\n",
       "    <tr>\n",
       "      <th>75%</th>\n",
       "      <td>548.500000</td>\n",
       "      <td>3.000000</td>\n",
       "      <td>1.000000</td>\n",
       "      <td>10.000000</td>\n",
       "      <td>0.000000</td>\n",
       "      <td>5.000000</td>\n",
       "      <td>1.000000</td>\n",
       "      <td>2.000000</td>\n",
       "      <td>0.655417</td>\n",
       "      <td>0.608602</td>\n",
       "      <td>0.730209</td>\n",
       "      <td>0.233214</td>\n",
       "      <td>1096.000000</td>\n",
       "      <td>4776.500000</td>\n",
       "      <td>5956.000000</td>\n",
       "    </tr>\n",
       "    <tr>\n",
       "      <th>max</th>\n",
       "      <td>731.000000</td>\n",
       "      <td>4.000000</td>\n",
       "      <td>1.000000</td>\n",
       "      <td>12.000000</td>\n",
       "      <td>1.000000</td>\n",
       "      <td>6.000000</td>\n",
       "      <td>1.000000</td>\n",
       "      <td>3.000000</td>\n",
       "      <td>0.861667</td>\n",
       "      <td>0.840896</td>\n",
       "      <td>0.972500</td>\n",
       "      <td>0.507463</td>\n",
       "      <td>3410.000000</td>\n",
       "      <td>6946.000000</td>\n",
       "      <td>8714.000000</td>\n",
       "    </tr>\n",
       "  </tbody>\n",
       "</table>\n",
       "</div>"
      ],
      "text/plain": [
       "          instant      season          yr        mnth     holiday     weekday  \\\n",
       "count  731.000000  731.000000  731.000000  731.000000  731.000000  731.000000   \n",
       "mean   366.000000    2.496580    0.500684    6.519836    0.028728    2.997264   \n",
       "std    211.165812    1.110807    0.500342    3.451913    0.167155    2.004787   \n",
       "min      1.000000    1.000000    0.000000    1.000000    0.000000    0.000000   \n",
       "25%    183.500000    2.000000    0.000000    4.000000    0.000000    1.000000   \n",
       "50%    366.000000    3.000000    1.000000    7.000000    0.000000    3.000000   \n",
       "75%    548.500000    3.000000    1.000000   10.000000    0.000000    5.000000   \n",
       "max    731.000000    4.000000    1.000000   12.000000    1.000000    6.000000   \n",
       "\n",
       "       workingday  weathersit        temp       atemp         hum   windspeed  \\\n",
       "count  731.000000  731.000000  731.000000  731.000000  731.000000  731.000000   \n",
       "mean     0.683995    1.395349    0.495385    0.474354    0.627894    0.190486   \n",
       "std      0.465233    0.544894    0.183051    0.162961    0.142429    0.077498   \n",
       "min      0.000000    1.000000    0.059130    0.079070    0.000000    0.022392   \n",
       "25%      0.000000    1.000000    0.337083    0.337842    0.520000    0.134950   \n",
       "50%      1.000000    1.000000    0.498333    0.486733    0.626667    0.180975   \n",
       "75%      1.000000    2.000000    0.655417    0.608602    0.730209    0.233214   \n",
       "max      1.000000    3.000000    0.861667    0.840896    0.972500    0.507463   \n",
       "\n",
       "            casual   registered          cnt  \n",
       "count   731.000000   731.000000   731.000000  \n",
       "mean    848.176471  3656.172367  4504.348837  \n",
       "std     686.622488  1560.256377  1937.211452  \n",
       "min       2.000000    20.000000    22.000000  \n",
       "25%     315.500000  2497.000000  3152.000000  \n",
       "50%     713.000000  3662.000000  4548.000000  \n",
       "75%    1096.000000  4776.500000  5956.000000  \n",
       "max    3410.000000  6946.000000  8714.000000  "
      ]
     },
     "execution_count": 3,
     "metadata": {},
     "output_type": "execute_result"
    }
   ],
   "source": [
    "df.describe()"
   ]
  },
  {
   "cell_type": "markdown",
   "id": "39d3f3ed",
   "metadata": {},
   "source": [
    "We can see that there are no missing values in the data frame and that there are no unexpected negative values. We can also see that the average number of bikes rented a day in this period was 4504.348837."
   ]
  },
  {
   "cell_type": "markdown",
   "id": "47e314af",
   "metadata": {},
   "source": [
    "Next, we can calculate the correlation between these atributes."
   ]
  },
  {
   "cell_type": "code",
   "execution_count": 4,
   "id": "c766c05a",
   "metadata": {},
   "outputs": [
    {
     "data": {
      "text/html": [
       "<div>\n",
       "<style scoped>\n",
       "    .dataframe tbody tr th:only-of-type {\n",
       "        vertical-align: middle;\n",
       "    }\n",
       "\n",
       "    .dataframe tbody tr th {\n",
       "        vertical-align: top;\n",
       "    }\n",
       "\n",
       "    .dataframe thead th {\n",
       "        text-align: right;\n",
       "    }\n",
       "</style>\n",
       "<table border=\"1\" class=\"dataframe\">\n",
       "  <thead>\n",
       "    <tr style=\"text-align: right;\">\n",
       "      <th></th>\n",
       "      <th>instant</th>\n",
       "      <th>season</th>\n",
       "      <th>yr</th>\n",
       "      <th>mnth</th>\n",
       "      <th>holiday</th>\n",
       "      <th>weekday</th>\n",
       "      <th>workingday</th>\n",
       "      <th>weathersit</th>\n",
       "      <th>temp</th>\n",
       "      <th>atemp</th>\n",
       "      <th>hum</th>\n",
       "      <th>windspeed</th>\n",
       "      <th>casual</th>\n",
       "      <th>registered</th>\n",
       "      <th>cnt</th>\n",
       "    </tr>\n",
       "  </thead>\n",
       "  <tbody>\n",
       "    <tr>\n",
       "      <th>instant</th>\n",
       "      <td>1.000000</td>\n",
       "      <td>0.412224</td>\n",
       "      <td>0.866025</td>\n",
       "      <td>0.496702</td>\n",
       "      <td>0.016145</td>\n",
       "      <td>-0.000016</td>\n",
       "      <td>-0.004337</td>\n",
       "      <td>-0.021477</td>\n",
       "      <td>0.150580</td>\n",
       "      <td>0.152638</td>\n",
       "      <td>0.016375</td>\n",
       "      <td>-0.112620</td>\n",
       "      <td>0.275255</td>\n",
       "      <td>0.659623</td>\n",
       "      <td>0.628830</td>\n",
       "    </tr>\n",
       "    <tr>\n",
       "      <th>season</th>\n",
       "      <td>0.412224</td>\n",
       "      <td>1.000000</td>\n",
       "      <td>-0.001844</td>\n",
       "      <td>0.831440</td>\n",
       "      <td>-0.010537</td>\n",
       "      <td>-0.003080</td>\n",
       "      <td>0.012485</td>\n",
       "      <td>0.019211</td>\n",
       "      <td>0.334315</td>\n",
       "      <td>0.342876</td>\n",
       "      <td>0.205445</td>\n",
       "      <td>-0.229046</td>\n",
       "      <td>0.210399</td>\n",
       "      <td>0.411623</td>\n",
       "      <td>0.406100</td>\n",
       "    </tr>\n",
       "    <tr>\n",
       "      <th>yr</th>\n",
       "      <td>0.866025</td>\n",
       "      <td>-0.001844</td>\n",
       "      <td>1.000000</td>\n",
       "      <td>-0.001792</td>\n",
       "      <td>0.007954</td>\n",
       "      <td>-0.005461</td>\n",
       "      <td>-0.002013</td>\n",
       "      <td>-0.048727</td>\n",
       "      <td>0.047604</td>\n",
       "      <td>0.046106</td>\n",
       "      <td>-0.110651</td>\n",
       "      <td>-0.011817</td>\n",
       "      <td>0.248546</td>\n",
       "      <td>0.594248</td>\n",
       "      <td>0.566710</td>\n",
       "    </tr>\n",
       "    <tr>\n",
       "      <th>mnth</th>\n",
       "      <td>0.496702</td>\n",
       "      <td>0.831440</td>\n",
       "      <td>-0.001792</td>\n",
       "      <td>1.000000</td>\n",
       "      <td>0.019191</td>\n",
       "      <td>0.009509</td>\n",
       "      <td>-0.005901</td>\n",
       "      <td>0.043528</td>\n",
       "      <td>0.220205</td>\n",
       "      <td>0.227459</td>\n",
       "      <td>0.222204</td>\n",
       "      <td>-0.207502</td>\n",
       "      <td>0.123006</td>\n",
       "      <td>0.293488</td>\n",
       "      <td>0.279977</td>\n",
       "    </tr>\n",
       "    <tr>\n",
       "      <th>holiday</th>\n",
       "      <td>0.016145</td>\n",
       "      <td>-0.010537</td>\n",
       "      <td>0.007954</td>\n",
       "      <td>0.019191</td>\n",
       "      <td>1.000000</td>\n",
       "      <td>-0.101960</td>\n",
       "      <td>-0.253023</td>\n",
       "      <td>-0.034627</td>\n",
       "      <td>-0.028556</td>\n",
       "      <td>-0.032507</td>\n",
       "      <td>-0.015937</td>\n",
       "      <td>0.006292</td>\n",
       "      <td>0.054274</td>\n",
       "      <td>-0.108745</td>\n",
       "      <td>-0.068348</td>\n",
       "    </tr>\n",
       "    <tr>\n",
       "      <th>weekday</th>\n",
       "      <td>-0.000016</td>\n",
       "      <td>-0.003080</td>\n",
       "      <td>-0.005461</td>\n",
       "      <td>0.009509</td>\n",
       "      <td>-0.101960</td>\n",
       "      <td>1.000000</td>\n",
       "      <td>0.035790</td>\n",
       "      <td>0.031087</td>\n",
       "      <td>-0.000170</td>\n",
       "      <td>-0.007537</td>\n",
       "      <td>-0.052232</td>\n",
       "      <td>0.014282</td>\n",
       "      <td>0.059923</td>\n",
       "      <td>0.057367</td>\n",
       "      <td>0.067443</td>\n",
       "    </tr>\n",
       "    <tr>\n",
       "      <th>workingday</th>\n",
       "      <td>-0.004337</td>\n",
       "      <td>0.012485</td>\n",
       "      <td>-0.002013</td>\n",
       "      <td>-0.005901</td>\n",
       "      <td>-0.253023</td>\n",
       "      <td>0.035790</td>\n",
       "      <td>1.000000</td>\n",
       "      <td>0.061200</td>\n",
       "      <td>0.052660</td>\n",
       "      <td>0.052182</td>\n",
       "      <td>0.024327</td>\n",
       "      <td>-0.018796</td>\n",
       "      <td>-0.518044</td>\n",
       "      <td>0.303907</td>\n",
       "      <td>0.061156</td>\n",
       "    </tr>\n",
       "    <tr>\n",
       "      <th>weathersit</th>\n",
       "      <td>-0.021477</td>\n",
       "      <td>0.019211</td>\n",
       "      <td>-0.048727</td>\n",
       "      <td>0.043528</td>\n",
       "      <td>-0.034627</td>\n",
       "      <td>0.031087</td>\n",
       "      <td>0.061200</td>\n",
       "      <td>1.000000</td>\n",
       "      <td>-0.120602</td>\n",
       "      <td>-0.121583</td>\n",
       "      <td>0.591045</td>\n",
       "      <td>0.039511</td>\n",
       "      <td>-0.247353</td>\n",
       "      <td>-0.260388</td>\n",
       "      <td>-0.297391</td>\n",
       "    </tr>\n",
       "    <tr>\n",
       "      <th>temp</th>\n",
       "      <td>0.150580</td>\n",
       "      <td>0.334315</td>\n",
       "      <td>0.047604</td>\n",
       "      <td>0.220205</td>\n",
       "      <td>-0.028556</td>\n",
       "      <td>-0.000170</td>\n",
       "      <td>0.052660</td>\n",
       "      <td>-0.120602</td>\n",
       "      <td>1.000000</td>\n",
       "      <td>0.991702</td>\n",
       "      <td>0.126963</td>\n",
       "      <td>-0.157944</td>\n",
       "      <td>0.543285</td>\n",
       "      <td>0.540012</td>\n",
       "      <td>0.627494</td>\n",
       "    </tr>\n",
       "    <tr>\n",
       "      <th>atemp</th>\n",
       "      <td>0.152638</td>\n",
       "      <td>0.342876</td>\n",
       "      <td>0.046106</td>\n",
       "      <td>0.227459</td>\n",
       "      <td>-0.032507</td>\n",
       "      <td>-0.007537</td>\n",
       "      <td>0.052182</td>\n",
       "      <td>-0.121583</td>\n",
       "      <td>0.991702</td>\n",
       "      <td>1.000000</td>\n",
       "      <td>0.139988</td>\n",
       "      <td>-0.183643</td>\n",
       "      <td>0.543864</td>\n",
       "      <td>0.544192</td>\n",
       "      <td>0.631066</td>\n",
       "    </tr>\n",
       "    <tr>\n",
       "      <th>hum</th>\n",
       "      <td>0.016375</td>\n",
       "      <td>0.205445</td>\n",
       "      <td>-0.110651</td>\n",
       "      <td>0.222204</td>\n",
       "      <td>-0.015937</td>\n",
       "      <td>-0.052232</td>\n",
       "      <td>0.024327</td>\n",
       "      <td>0.591045</td>\n",
       "      <td>0.126963</td>\n",
       "      <td>0.139988</td>\n",
       "      <td>1.000000</td>\n",
       "      <td>-0.248489</td>\n",
       "      <td>-0.077008</td>\n",
       "      <td>-0.091089</td>\n",
       "      <td>-0.100659</td>\n",
       "    </tr>\n",
       "    <tr>\n",
       "      <th>windspeed</th>\n",
       "      <td>-0.112620</td>\n",
       "      <td>-0.229046</td>\n",
       "      <td>-0.011817</td>\n",
       "      <td>-0.207502</td>\n",
       "      <td>0.006292</td>\n",
       "      <td>0.014282</td>\n",
       "      <td>-0.018796</td>\n",
       "      <td>0.039511</td>\n",
       "      <td>-0.157944</td>\n",
       "      <td>-0.183643</td>\n",
       "      <td>-0.248489</td>\n",
       "      <td>1.000000</td>\n",
       "      <td>-0.167613</td>\n",
       "      <td>-0.217449</td>\n",
       "      <td>-0.234545</td>\n",
       "    </tr>\n",
       "    <tr>\n",
       "      <th>casual</th>\n",
       "      <td>0.275255</td>\n",
       "      <td>0.210399</td>\n",
       "      <td>0.248546</td>\n",
       "      <td>0.123006</td>\n",
       "      <td>0.054274</td>\n",
       "      <td>0.059923</td>\n",
       "      <td>-0.518044</td>\n",
       "      <td>-0.247353</td>\n",
       "      <td>0.543285</td>\n",
       "      <td>0.543864</td>\n",
       "      <td>-0.077008</td>\n",
       "      <td>-0.167613</td>\n",
       "      <td>1.000000</td>\n",
       "      <td>0.395282</td>\n",
       "      <td>0.672804</td>\n",
       "    </tr>\n",
       "    <tr>\n",
       "      <th>registered</th>\n",
       "      <td>0.659623</td>\n",
       "      <td>0.411623</td>\n",
       "      <td>0.594248</td>\n",
       "      <td>0.293488</td>\n",
       "      <td>-0.108745</td>\n",
       "      <td>0.057367</td>\n",
       "      <td>0.303907</td>\n",
       "      <td>-0.260388</td>\n",
       "      <td>0.540012</td>\n",
       "      <td>0.544192</td>\n",
       "      <td>-0.091089</td>\n",
       "      <td>-0.217449</td>\n",
       "      <td>0.395282</td>\n",
       "      <td>1.000000</td>\n",
       "      <td>0.945517</td>\n",
       "    </tr>\n",
       "    <tr>\n",
       "      <th>cnt</th>\n",
       "      <td>0.628830</td>\n",
       "      <td>0.406100</td>\n",
       "      <td>0.566710</td>\n",
       "      <td>0.279977</td>\n",
       "      <td>-0.068348</td>\n",
       "      <td>0.067443</td>\n",
       "      <td>0.061156</td>\n",
       "      <td>-0.297391</td>\n",
       "      <td>0.627494</td>\n",
       "      <td>0.631066</td>\n",
       "      <td>-0.100659</td>\n",
       "      <td>-0.234545</td>\n",
       "      <td>0.672804</td>\n",
       "      <td>0.945517</td>\n",
       "      <td>1.000000</td>\n",
       "    </tr>\n",
       "  </tbody>\n",
       "</table>\n",
       "</div>"
      ],
      "text/plain": [
       "             instant    season        yr      mnth   holiday   weekday  \\\n",
       "instant     1.000000  0.412224  0.866025  0.496702  0.016145 -0.000016   \n",
       "season      0.412224  1.000000 -0.001844  0.831440 -0.010537 -0.003080   \n",
       "yr          0.866025 -0.001844  1.000000 -0.001792  0.007954 -0.005461   \n",
       "mnth        0.496702  0.831440 -0.001792  1.000000  0.019191  0.009509   \n",
       "holiday     0.016145 -0.010537  0.007954  0.019191  1.000000 -0.101960   \n",
       "weekday    -0.000016 -0.003080 -0.005461  0.009509 -0.101960  1.000000   \n",
       "workingday -0.004337  0.012485 -0.002013 -0.005901 -0.253023  0.035790   \n",
       "weathersit -0.021477  0.019211 -0.048727  0.043528 -0.034627  0.031087   \n",
       "temp        0.150580  0.334315  0.047604  0.220205 -0.028556 -0.000170   \n",
       "atemp       0.152638  0.342876  0.046106  0.227459 -0.032507 -0.007537   \n",
       "hum         0.016375  0.205445 -0.110651  0.222204 -0.015937 -0.052232   \n",
       "windspeed  -0.112620 -0.229046 -0.011817 -0.207502  0.006292  0.014282   \n",
       "casual      0.275255  0.210399  0.248546  0.123006  0.054274  0.059923   \n",
       "registered  0.659623  0.411623  0.594248  0.293488 -0.108745  0.057367   \n",
       "cnt         0.628830  0.406100  0.566710  0.279977 -0.068348  0.067443   \n",
       "\n",
       "            workingday  weathersit      temp     atemp       hum  windspeed  \\\n",
       "instant      -0.004337   -0.021477  0.150580  0.152638  0.016375  -0.112620   \n",
       "season        0.012485    0.019211  0.334315  0.342876  0.205445  -0.229046   \n",
       "yr           -0.002013   -0.048727  0.047604  0.046106 -0.110651  -0.011817   \n",
       "mnth         -0.005901    0.043528  0.220205  0.227459  0.222204  -0.207502   \n",
       "holiday      -0.253023   -0.034627 -0.028556 -0.032507 -0.015937   0.006292   \n",
       "weekday       0.035790    0.031087 -0.000170 -0.007537 -0.052232   0.014282   \n",
       "workingday    1.000000    0.061200  0.052660  0.052182  0.024327  -0.018796   \n",
       "weathersit    0.061200    1.000000 -0.120602 -0.121583  0.591045   0.039511   \n",
       "temp          0.052660   -0.120602  1.000000  0.991702  0.126963  -0.157944   \n",
       "atemp         0.052182   -0.121583  0.991702  1.000000  0.139988  -0.183643   \n",
       "hum           0.024327    0.591045  0.126963  0.139988  1.000000  -0.248489   \n",
       "windspeed    -0.018796    0.039511 -0.157944 -0.183643 -0.248489   1.000000   \n",
       "casual       -0.518044   -0.247353  0.543285  0.543864 -0.077008  -0.167613   \n",
       "registered    0.303907   -0.260388  0.540012  0.544192 -0.091089  -0.217449   \n",
       "cnt           0.061156   -0.297391  0.627494  0.631066 -0.100659  -0.234545   \n",
       "\n",
       "              casual  registered       cnt  \n",
       "instant     0.275255    0.659623  0.628830  \n",
       "season      0.210399    0.411623  0.406100  \n",
       "yr          0.248546    0.594248  0.566710  \n",
       "mnth        0.123006    0.293488  0.279977  \n",
       "holiday     0.054274   -0.108745 -0.068348  \n",
       "weekday     0.059923    0.057367  0.067443  \n",
       "workingday -0.518044    0.303907  0.061156  \n",
       "weathersit -0.247353   -0.260388 -0.297391  \n",
       "temp        0.543285    0.540012  0.627494  \n",
       "atemp       0.543864    0.544192  0.631066  \n",
       "hum        -0.077008   -0.091089 -0.100659  \n",
       "windspeed  -0.167613   -0.217449 -0.234545  \n",
       "casual      1.000000    0.395282  0.672804  \n",
       "registered  0.395282    1.000000  0.945517  \n",
       "cnt         0.672804    0.945517  1.000000  "
      ]
     },
     "execution_count": 4,
     "metadata": {},
     "output_type": "execute_result"
    }
   ],
   "source": [
    "df.corr()"
   ]
  },
  {
   "cell_type": "markdown",
   "id": "2905c441",
   "metadata": {},
   "source": [
    "We can now visualize this in a heat map."
   ]
  },
  {
   "cell_type": "code",
   "execution_count": 7,
   "id": "f2f1b2b9",
   "metadata": {},
   "outputs": [
    {
     "data": {
      "image/png": "[encoded data removed]",
      "text/plain": [
       "<Figure size 1440x1440 with 2 Axes>"
      ]
     },
     "metadata": {
      "needs_background": "light"
     },
     "output_type": "display_data"
    }
   ],
   "source": [
    "plt.figure(figsize=(20, 20))\n",
    "sns.heatmap(df.corr(), annot=True);"
   ]
  },
  {
   "cell_type": "markdown",
   "id": "61cbedc0",
   "metadata": {},
   "source": [
    "We can see that attributes such as temperature and feeling temperature have a high correlation with the number of bikes rented in a given day."
   ]
  },
  {
   "cell_type": "markdown",
   "id": "930c1c61",
   "metadata": {},
   "source": [
    "Next, we can graph the number of bikes rented per day."
   ]
  },
  {
   "cell_type": "code",
   "execution_count": 9,
   "id": "74fee2f3",
   "metadata": {},
   "outputs": [
    {
     "data": {
      "image/png": "[encoded data removed]",
      "text/plain": [
       "<Figure size 432x288 with 1 Axes>"
      ]
     },
     "metadata": {
      "needs_background": "light"
     },
     "output_type": "display_data"
    }
   ],
   "source": [
    "plt.plot(df['instant'], df['cnt'])\n",
    "plt.xlabel('instant')\n",
    "plt.ylabel('cnt')\n",
    "plt.show()"
   ]
  },
  {
   "cell_type": "markdown",
   "id": "e3d57083",
   "metadata": {},
   "source": [
    "We can see that there were more rentals in 2012 than in 2011 and that most of them happened in the middle of the year, not at the beginning or the end."
   ]
  },
  {
   "cell_type": "markdown",
   "id": "5ad298c2",
   "metadata": {},
   "source": [
    "Since temperature had one of the highest correlations with the number of rentals, we can also make a scatter plot to verify the relationship between these two attributes."
   ]
  },
  {
   "cell_type": "code",
   "execution_count": 10,
   "id": "eb02b8cb",
   "metadata": {},
   "outputs": [
    {
     "data": {
      "image/png": "[encoded data removed]",
      "text/plain": [
       "<Figure size 432x288 with 1 Axes>"
      ]
     },
     "metadata": {
      "needs_background": "light"
     },
     "output_type": "display_data"
    }
   ],
   "source": [
    "plt.scatter(df['temp'], df['cnt'])\n",
    "plt.xlabel('temp')\n",
    "plt.ylabel('cnt')\n",
    "plt.show()"
   ]
  },
  {
   "cell_type": "markdown",
   "id": "59d1f1be",
   "metadata": {},
   "source": [
    "As expected, we can see that there are more rentals the higher the temperature is."
   ]
  },
  {
   "cell_type": "markdown",
   "id": "9ecfbb98",
   "metadata": {},
   "source": [
    "Our next step is to create pivot tables relating the discreet variables with the number of rentals. Let us begin by counting how many rentals there were per year."
   ]
  },
  {
   "cell_type": "code",
   "execution_count": 12,
   "id": "bce6321f",
   "metadata": {},
   "outputs": [
    {
     "data": {
      "text/html": [
       "<div>\n",
       "<style scoped>\n",
       "    .dataframe tbody tr th:only-of-type {\n",
       "        vertical-align: middle;\n",
       "    }\n",
       "\n",
       "    .dataframe tbody tr th {\n",
       "        vertical-align: top;\n",
       "    }\n",
       "\n",
       "    .dataframe thead th {\n",
       "        text-align: right;\n",
       "    }\n",
       "</style>\n",
       "<table border=\"1\" class=\"dataframe\">\n",
       "  <thead>\n",
       "    <tr style=\"text-align: right;\">\n",
       "      <th></th>\n",
       "      <th>cnt</th>\n",
       "    </tr>\n",
       "    <tr>\n",
       "      <th>yr</th>\n",
       "      <th></th>\n",
       "    </tr>\n",
       "  </thead>\n",
       "  <tbody>\n",
       "    <tr>\n",
       "      <th>0</th>\n",
       "      <td>1243103</td>\n",
       "    </tr>\n",
       "    <tr>\n",
       "      <th>1</th>\n",
       "      <td>2049576</td>\n",
       "    </tr>\n",
       "  </tbody>\n",
       "</table>\n",
       "</div>"
      ],
      "text/plain": [
       "        cnt\n",
       "yr         \n",
       "0   1243103\n",
       "1   2049576"
      ]
     },
     "execution_count": 12,
     "metadata": {},
     "output_type": "execute_result"
    }
   ],
   "source": [
    "pd.pivot_table(df, index = 'yr', values = 'cnt', aggfunc=np.sum)"
   ]
  },
  {
   "cell_type": "markdown",
   "id": "0d7b9410",
   "metadata": {},
   "source": [
    "As expected, there were significantly more rentals on the second year than in the first."
   ]
  },
  {
   "cell_type": "markdown",
   "id": "8a7d975e",
   "metadata": {},
   "source": [
    "We may now repeat this process for the seasons and the months."
   ]
  },
  {
   "cell_type": "code",
   "execution_count": 13,
   "id": "3486260b",
   "metadata": {},
   "outputs": [
    {
     "data": {
      "text/html": [
       "<div>\n",
       "<style scoped>\n",
       "    .dataframe tbody tr th:only-of-type {\n",
       "        vertical-align: middle;\n",
       "    }\n",
       "\n",
       "    .dataframe tbody tr th {\n",
       "        vertical-align: top;\n",
       "    }\n",
       "\n",
       "    .dataframe thead th {\n",
       "        text-align: right;\n",
       "    }\n",
       "</style>\n",
       "<table border=\"1\" class=\"dataframe\">\n",
       "  <thead>\n",
       "    <tr style=\"text-align: right;\">\n",
       "      <th></th>\n",
       "      <th>cnt</th>\n",
       "    </tr>\n",
       "    <tr>\n",
       "      <th>season</th>\n",
       "      <th></th>\n",
       "    </tr>\n",
       "  </thead>\n",
       "  <tbody>\n",
       "    <tr>\n",
       "      <th>1</th>\n",
       "      <td>471348</td>\n",
       "    </tr>\n",
       "    <tr>\n",
       "      <th>2</th>\n",
       "      <td>918589</td>\n",
       "    </tr>\n",
       "    <tr>\n",
       "      <th>3</th>\n",
       "      <td>1061129</td>\n",
       "    </tr>\n",
       "    <tr>\n",
       "      <th>4</th>\n",
       "      <td>841613</td>\n",
       "    </tr>\n",
       "  </tbody>\n",
       "</table>\n",
       "</div>"
      ],
      "text/plain": [
       "            cnt\n",
       "season         \n",
       "1        471348\n",
       "2        918589\n",
       "3       1061129\n",
       "4        841613"
      ]
     },
     "execution_count": 13,
     "metadata": {},
     "output_type": "execute_result"
    }
   ],
   "source": [
    "pd.pivot_table(df, index = 'season', values = 'cnt', aggfunc=np.sum)"
   ]
  },
  {
   "cell_type": "code",
   "execution_count": 14,
   "id": "717af472",
   "metadata": {},
   "outputs": [
    {
     "data": {
      "text/html": [
       "<div>\n",
       "<style scoped>\n",
       "    .dataframe tbody tr th:only-of-type {\n",
       "        vertical-align: middle;\n",
       "    }\n",
       "\n",
       "    .dataframe tbody tr th {\n",
       "        vertical-align: top;\n",
       "    }\n",
       "\n",
       "    .dataframe thead th {\n",
       "        text-align: right;\n",
       "    }\n",
       "</style>\n",
       "<table border=\"1\" class=\"dataframe\">\n",
       "  <thead>\n",
       "    <tr style=\"text-align: right;\">\n",
       "      <th></th>\n",
       "      <th>cnt</th>\n",
       "    </tr>\n",
       "    <tr>\n",
       "      <th>mnth</th>\n",
       "      <th></th>\n",
       "    </tr>\n",
       "  </thead>\n",
       "  <tbody>\n",
       "    <tr>\n",
       "      <th>1</th>\n",
       "      <td>134933</td>\n",
       "    </tr>\n",
       "    <tr>\n",
       "      <th>2</th>\n",
       "      <td>151352</td>\n",
       "    </tr>\n",
       "    <tr>\n",
       "      <th>3</th>\n",
       "      <td>228920</td>\n",
       "    </tr>\n",
       "    <tr>\n",
       "      <th>4</th>\n",
       "      <td>269094</td>\n",
       "    </tr>\n",
       "    <tr>\n",
       "      <th>5</th>\n",
       "      <td>331686</td>\n",
       "    </tr>\n",
       "    <tr>\n",
       "      <th>6</th>\n",
       "      <td>346342</td>\n",
       "    </tr>\n",
       "    <tr>\n",
       "      <th>7</th>\n",
       "      <td>344948</td>\n",
       "    </tr>\n",
       "    <tr>\n",
       "      <th>8</th>\n",
       "      <td>351194</td>\n",
       "    </tr>\n",
       "    <tr>\n",
       "      <th>9</th>\n",
       "      <td>345991</td>\n",
       "    </tr>\n",
       "    <tr>\n",
       "      <th>10</th>\n",
       "      <td>322352</td>\n",
       "    </tr>\n",
       "    <tr>\n",
       "      <th>11</th>\n",
       "      <td>254831</td>\n",
       "    </tr>\n",
       "    <tr>\n",
       "      <th>12</th>\n",
       "      <td>211036</td>\n",
       "    </tr>\n",
       "  </tbody>\n",
       "</table>\n",
       "</div>"
      ],
      "text/plain": [
       "         cnt\n",
       "mnth        \n",
       "1     134933\n",
       "2     151352\n",
       "3     228920\n",
       "4     269094\n",
       "5     331686\n",
       "6     346342\n",
       "7     344948\n",
       "8     351194\n",
       "9     345991\n",
       "10    322352\n",
       "11    254831\n",
       "12    211036"
      ]
     },
     "execution_count": 14,
     "metadata": {},
     "output_type": "execute_result"
    }
   ],
   "source": [
    "pd.pivot_table(df, index = 'mnth', values = 'cnt', aggfunc=np.sum)"
   ]
  },
  {
   "cell_type": "markdown",
   "id": "0b1f3d80",
   "metadata": {},
   "source": [
    "It's easy to see that, as expected, there are more rentals towards the middle of the year."
   ]
  },
  {
   "cell_type": "markdown",
   "id": "a1fa0430",
   "metadata": {},
   "source": [
    "Let us also do the same for the days of the week, but calculating the mean."
   ]
  },
  {
   "cell_type": "code",
   "execution_count": 3,
   "id": "6a617401",
   "metadata": {},
   "outputs": [
    {
     "data": {
      "text/html": [
       "<div>\n",
       "<style scoped>\n",
       "    .dataframe tbody tr th:only-of-type {\n",
       "        vertical-align: middle;\n",
       "    }\n",
       "\n",
       "    .dataframe tbody tr th {\n",
       "        vertical-align: top;\n",
       "    }\n",
       "\n",
       "    .dataframe thead th {\n",
       "        text-align: right;\n",
       "    }\n",
       "</style>\n",
       "<table border=\"1\" class=\"dataframe\">\n",
       "  <thead>\n",
       "    <tr style=\"text-align: right;\">\n",
       "      <th></th>\n",
       "      <th>cnt</th>\n",
       "    </tr>\n",
       "    <tr>\n",
       "      <th>weekday</th>\n",
       "      <th></th>\n",
       "    </tr>\n",
       "  </thead>\n",
       "  <tbody>\n",
       "    <tr>\n",
       "      <th>0</th>\n",
       "      <td>4228.828571</td>\n",
       "    </tr>\n",
       "    <tr>\n",
       "      <th>1</th>\n",
       "      <td>4338.123810</td>\n",
       "    </tr>\n",
       "    <tr>\n",
       "      <th>2</th>\n",
       "      <td>4510.663462</td>\n",
       "    </tr>\n",
       "    <tr>\n",
       "      <th>3</th>\n",
       "      <td>4548.538462</td>\n",
       "    </tr>\n",
       "    <tr>\n",
       "      <th>4</th>\n",
       "      <td>4667.259615</td>\n",
       "    </tr>\n",
       "    <tr>\n",
       "      <th>5</th>\n",
       "      <td>4690.288462</td>\n",
       "    </tr>\n",
       "    <tr>\n",
       "      <th>6</th>\n",
       "      <td>4550.542857</td>\n",
       "    </tr>\n",
       "  </tbody>\n",
       "</table>\n",
       "</div>"
      ],
      "text/plain": [
       "                 cnt\n",
       "weekday             \n",
       "0        4228.828571\n",
       "1        4338.123810\n",
       "2        4510.663462\n",
       "3        4548.538462\n",
       "4        4667.259615\n",
       "5        4690.288462\n",
       "6        4550.542857"
      ]
     },
     "execution_count": 3,
     "metadata": {},
     "output_type": "execute_result"
    }
   ],
   "source": [
    "pd.pivot_table(df, index = 'weekday', values = 'cnt', aggfunc=np.mean)"
   ]
  },
  {
   "cell_type": "markdown",
   "id": "b5b48fbb",
   "metadata": {},
   "source": [
    "We can see that the number of rentals increases as the week progresses, reaching a maximum on Friday."
   ]
  },
  {
   "cell_type": "markdown",
   "id": "ba485667",
   "metadata": {},
   "source": [
    "Finally, let us make a pivot table for the weather using the mean."
   ]
  },
  {
   "cell_type": "code",
   "execution_count": 5,
   "id": "035140eb",
   "metadata": {},
   "outputs": [
    {
     "data": {
      "text/html": [
       "<div>\n",
       "<style scoped>\n",
       "    .dataframe tbody tr th:only-of-type {\n",
       "        vertical-align: middle;\n",
       "    }\n",
       "\n",
       "    .dataframe tbody tr th {\n",
       "        vertical-align: top;\n",
       "    }\n",
       "\n",
       "    .dataframe thead th {\n",
       "        text-align: right;\n",
       "    }\n",
       "</style>\n",
       "<table border=\"1\" class=\"dataframe\">\n",
       "  <thead>\n",
       "    <tr style=\"text-align: right;\">\n",
       "      <th></th>\n",
       "      <th>cnt</th>\n",
       "    </tr>\n",
       "    <tr>\n",
       "      <th>weathersit</th>\n",
       "      <th></th>\n",
       "    </tr>\n",
       "  </thead>\n",
       "  <tbody>\n",
       "    <tr>\n",
       "      <th>1</th>\n",
       "      <td>4876.786177</td>\n",
       "    </tr>\n",
       "    <tr>\n",
       "      <th>2</th>\n",
       "      <td>4035.862348</td>\n",
       "    </tr>\n",
       "    <tr>\n",
       "      <th>3</th>\n",
       "      <td>1803.285714</td>\n",
       "    </tr>\n",
       "  </tbody>\n",
       "</table>\n",
       "</div>"
      ],
      "text/plain": [
       "                    cnt\n",
       "weathersit             \n",
       "1           4876.786177\n",
       "2           4035.862348\n",
       "3           1803.285714"
      ]
     },
     "execution_count": 5,
     "metadata": {},
     "output_type": "execute_result"
    }
   ],
   "source": [
    "pd.pivot_table(df, index = 'weathersit', values = 'cnt', aggfunc=np.mean)"
   ]
  },
  {
   "cell_type": "markdown",
   "id": "0c8ceb36",
   "metadata": {},
   "source": [
    "As could be expected, the clearer the weather, the more rentals there are."
   ]
  },
  {
   "cell_type": "markdown",
   "id": "45516275",
   "metadata": {},
   "source": [
    "## 2) Preprocessing"
   ]
  },
  {
   "cell_type": "markdown",
   "id": "def6cb7a",
   "metadata": {},
   "source": [
    "Now we will prepare our data for the machine learning algorithms. Our first step is to separate the predicting attributes from the one we want to predict."
   ]
  },
  {
   "cell_type": "code",
   "execution_count": 6,
   "id": "726c2f56",
   "metadata": {},
   "outputs": [
    {
     "data": {
      "text/plain": [
       "Index(['instant', 'dteday', 'season', 'yr', 'mnth', 'holiday', 'weekday',\n",
       "       'workingday', 'weathersit', 'temp', 'atemp', 'hum', 'windspeed',\n",
       "       'casual', 'registered'],\n",
       "      dtype='object')"
      ]
     },
     "execution_count": 6,
     "metadata": {},
     "output_type": "execute_result"
    }
   ],
   "source": [
    "X_df = df.drop(columns = 'cnt')\n",
    "y_df = df['cnt']\n",
    "X_df.columns"
   ]
  },
  {
   "cell_type": "markdown",
   "id": "e74422fa",
   "metadata": {},
   "source": [
    "Next, we must choose which attributes we will use for the predictions, or rather, which ones we won't. The attributes \"instant\" and \"dteday\" are there for indexing purposes and never repeat themselves, therefore we will not use them. The attributes \"temp\" and \"atemp\" are highly correlated with each other, so we need pick only one of the two for the predictions, we choose \"temp\". Finally, we are not interested in whether the clients were \"casual\" or \"registered\", so we drop these two columns."
   ]
  },
  {
   "cell_type": "code",
   "execution_count": 7,
   "id": "00d390b5",
   "metadata": {},
   "outputs": [
    {
     "data": {
      "text/plain": [
       "Index(['season', 'yr', 'mnth', 'holiday', 'weekday', 'workingday',\n",
       "       'weathersit', 'temp', 'hum', 'windspeed'],\n",
       "      dtype='object')"
      ]
     },
     "execution_count": 7,
     "metadata": {},
     "output_type": "execute_result"
    }
   ],
   "source": [
    "X_df = X_df.drop(columns = ['instant', 'dteday', 'atemp', 'casual', 'registered'])\n",
    "X_df.columns"
   ]
  },
  {
   "cell_type": "markdown",
   "id": "40ce1325",
   "metadata": {},
   "source": [
    "The last step of the preprocessing is to use the standard scaler, which is necessary for the regression algorithms of SVR and neural networks."
   ]
  },
  {
   "cell_type": "code",
   "execution_count": 8,
   "id": "e9f91972",
   "metadata": {},
   "outputs": [
    {
     "data": {
      "text/plain": [
       "array([[-1.34821315, -1.00136893, -1.60016072, ..., -0.82666213,\n",
       "         1.25017133, -0.38789169],\n",
       "       [-1.34821315, -1.00136893, -1.60016072, ..., -0.72109471,\n",
       "         0.47911298,  0.74960172],\n",
       "       [-1.34821315, -1.00136893, -1.60016072, ..., -1.63465665,\n",
       "        -1.33927398,  0.74663186],\n",
       "       ...,\n",
       "       [-1.34821315,  0.99863295,  1.58866019, ..., -1.32322427,\n",
       "         0.87839173, -0.85355213],\n",
       "       [-1.34821315,  0.99863295,  1.58866019, ..., -1.30955752,\n",
       "        -1.01566357,  2.06944426],\n",
       "       [-1.34821315,  0.99863295,  1.58866019, ..., -1.52822548,\n",
       "        -0.35406086, -0.46020122]])"
      ]
     },
     "execution_count": 8,
     "metadata": {},
     "output_type": "execute_result"
    }
   ],
   "source": [
    "scaler_X = StandardScaler()\n",
    "scaler_y = StandardScaler()\n",
    "X_df = scaler_X.fit_transform(X_df)\n",
    "y_df = scaler_y.fit_transform(y_df.values.reshape(-1,1))\n",
    "X_df"
   ]
  },
  {
   "cell_type": "markdown",
   "id": "8fa67ac8",
   "metadata": {},
   "source": [
    "Finally, we save the preprocessed variables using pickle."
   ]
  },
  {
   "cell_type": "code",
   "execution_count": 9,
   "id": "81dfefd7",
   "metadata": {},
   "outputs": [],
   "source": [
    "with open('bike_sharing.pkl', mode='wb') as f:\n",
    "    pickle.dump([X_df, y_df], f)"
   ]
  },
  {
   "cell_type": "markdown",
   "id": "887802cd",
   "metadata": {},
   "source": [
    "## 3) Linear Regression"
   ]
  },
  {
   "cell_type": "markdown",
   "id": "72b4e963",
   "metadata": {},
   "source": [
    "Now we can begin making predictions on the data base, starting with the linear regression algorithm."
   ]
  },
  {
   "cell_type": "markdown",
   "id": "81d8ed1e",
   "metadata": {},
   "source": [
    "Our first step is to load the preprocessed data."
   ]
  },
  {
   "cell_type": "code",
   "execution_count": 2,
   "id": "c94d7ce4",
   "metadata": {},
   "outputs": [],
   "source": [
    "with open('bike_sharing.pkl', mode='rb') as f:\n",
    "    X_df, y_df = pickle.load(f)"
   ]
  },
  {
   "cell_type": "markdown",
   "id": "d93dad8a",
   "metadata": {},
   "source": [
    "Next, we use cross validation to evaluate this algorithm for different train-test splits. We calculate both the r2 score and the mean absolute error of the prediction. However, we need to keep in mind that, since we used the standard scaler on the data, the mean absolute error we obtain is not the one we would have for the original data, however, since we are only interested in comparing the results for different algorithms, this value is still useful for us."
   ]
  },
  {
   "cell_type": "code",
   "execution_count": 29,
   "id": "baed786b",
   "metadata": {},
   "outputs": [
    {
     "data": {
      "text/plain": [
       "[0.7887860257313168,\n",
       " 0.786873176350368,\n",
       " 0.779987879178415,\n",
       " 0.787546367928318,\n",
       " 0.7907973006951963,\n",
       " 0.7841412613894462,\n",
       " 0.7878020257187426,\n",
       " 0.7852749504364296,\n",
       " 0.7873638656047981,\n",
       " 0.7845446864000702,\n",
       " 0.786651146201005,\n",
       " 0.7869258281934342,\n",
       " 0.7880955927602634,\n",
       " 0.7838263338611374,\n",
       " 0.7931361150262699,\n",
       " 0.7869187709947656,\n",
       " 0.787305101307115,\n",
       " 0.7832316169256268,\n",
       " 0.7833808872002975,\n",
       " 0.7888637565000808,\n",
       " 0.7874994117027556,\n",
       " 0.7864595804498856,\n",
       " 0.7873860544383191,\n",
       " 0.7849220942155488,\n",
       " 0.7851548308203954,\n",
       " 0.7846715400766613,\n",
       " 0.7886887380272977,\n",
       " 0.7834970757509592,\n",
       " 0.7854485723946067,\n",
       " 0.7869728965003794]"
      ]
     },
     "execution_count": 29,
     "metadata": {},
     "output_type": "execute_result"
    }
   ],
   "source": [
    "results_linear_r2 = []\n",
    "linear = LinearRegression()\n",
    "for i in range(30):\n",
    "    kfold = KFold(n_splits=10, shuffle=True, random_state=i)\n",
    "    scores = cross_val_score(linear, X_df, y_df, cv=kfold)\n",
    "    results_linear_r2.append(scores.mean())\n",
    "results_linear_r2"
   ]
  },
  {
   "cell_type": "code",
   "execution_count": 13,
   "id": "195e37fe",
   "metadata": {},
   "outputs": [
    {
     "data": {
      "text/plain": [
       "[-0.3415625969973991,\n",
       " -0.34049646833121144,\n",
       " -0.34109516063152456,\n",
       " -0.3407426479547646,\n",
       " -0.34025472979243687,\n",
       " -0.33991107329545905,\n",
       " -0.3415644339611118,\n",
       " -0.34099451070391573,\n",
       " -0.3402665740072421,\n",
       " -0.3407923761888882,\n",
       " -0.3409866607369395,\n",
       " -0.3409631221781809,\n",
       " -0.3396394336788381,\n",
       " -0.34126050422820553,\n",
       " -0.3402724197562836,\n",
       " -0.3426375452698552,\n",
       " -0.3419276234351403,\n",
       " -0.3409160102153265,\n",
       " -0.3402555265992039,\n",
       " -0.34119879586101626,\n",
       " -0.34075208309112204,\n",
       " -0.34134032288466115,\n",
       " -0.34081622140602463,\n",
       " -0.34020501692028315,\n",
       " -0.339738281793884,\n",
       " -0.3419687821936018,\n",
       " -0.34040296297135225,\n",
       " -0.34297514734064566,\n",
       " -0.34081026093021033,\n",
       " -0.34217476563102023]"
      ]
     },
     "execution_count": 13,
     "metadata": {},
     "output_type": "execute_result"
    }
   ],
   "source": [
    "results_linear_mae = []\n",
    "linear = LinearRegression()\n",
    "for i in range(30):\n",
    "    kfold = KFold(n_splits=10, shuffle=True, random_state=i)\n",
    "    scores = cross_val_score(linear, X_df, y_df, cv=kfold, scoring='neg_mean_absolute_error')\n",
    "    results_linear_mae.append(scores.mean())\n",
    "results_linear_mae"
   ]
  },
  {
   "cell_type": "markdown",
   "id": "f4b2d6a6",
   "metadata": {},
   "source": [
    "## 4) Polynomial Regression"
   ]
  },
  {
   "cell_type": "markdown",
   "id": "6af35cba",
   "metadata": {},
   "source": [
    "We will now test the polynomial linear regression algorithm, which is the same as the usual linear regression one, but altering the predicting attributes with the \"PolynomialFeatures\" class."
   ]
  },
  {
   "cell_type": "markdown",
   "id": "97c24d0f",
   "metadata": {},
   "source": [
    "We begin by importing the data."
   ]
  },
  {
   "cell_type": "code",
   "execution_count": 2,
   "id": "6fcb2097",
   "metadata": {},
   "outputs": [],
   "source": [
    "with open('bike_sharing.pkl', mode='rb') as f:\n",
    "    X_df, y_df = pickle.load(f)"
   ]
  },
  {
   "cell_type": "markdown",
   "id": "3d83574e",
   "metadata": {},
   "source": [
    "We will consider polynomial orders 2, 3 and 4, and compare them to determine which one gives the best result."
   ]
  },
  {
   "cell_type": "code",
   "execution_count": 3,
   "id": "11ae8449",
   "metadata": {},
   "outputs": [],
   "source": [
    "poly2 = PolynomialFeatures(degree=2)\n",
    "poly3 = PolynomialFeatures(degree=3)\n",
    "poly4 = PolynomialFeatures(degree=4)\n",
    "X_df_poly2 = poly2.fit_transform(X_df)\n",
    "X_df_poly3 = poly3.fit_transform(X_df)\n",
    "X_df_poly4 = poly4.fit_transform(X_df)"
   ]
  },
  {
   "cell_type": "markdown",
   "id": "2b9432a3",
   "metadata": {},
   "source": [
    "We first calculate, using cross validation, the score and mean absolute error for order 2."
   ]
  },
  {
   "cell_type": "code",
   "execution_count": 20,
   "id": "14bef041",
   "metadata": {},
   "outputs": [
    {
     "name": "stdout",
     "output_type": "stream",
     "text": [
      "0.8373969958980294\n",
      "-0.2808903026296622\n"
     ]
    }
   ],
   "source": [
    "results_linear_poly2_r2 = []\n",
    "linear_poly = LinearRegression()\n",
    "for i in range(30):\n",
    "    kfold = KFold(n_splits=10, shuffle=True, random_state=i)\n",
    "    scores = cross_val_score(linear_poly, X_df_poly2, y_df, cv=kfold)\n",
    "    results_linear_poly2_r2.append(scores.mean())\n",
    "print(np.array(results_linear_poly2_r2).mean())\n",
    "results_linear_poly2_mae = []\n",
    "linear_poly = LinearRegression()\n",
    "for i in range(30):\n",
    "    kfold = KFold(n_splits=10, shuffle=True, random_state=i)\n",
    "    scores = cross_val_score(linear_poly, X_df_poly2, y_df, cv=kfold, scoring='neg_mean_absolute_error')\n",
    "    results_linear_poly2_mae.append(scores.mean())\n",
    "print(np.array(results_linear_poly2_mae).mean())"
   ]
  },
  {
   "cell_type": "markdown",
   "id": "68e6e188",
   "metadata": {},
   "source": [
    "Now we do the same for order 3."
   ]
  },
  {
   "cell_type": "code",
   "execution_count": 18,
   "id": "211020ec",
   "metadata": {},
   "outputs": [
    {
     "name": "stdout",
     "output_type": "stream",
     "text": [
      "-8.156482051231093e+22\n",
      "-20209218346.698997\n"
     ]
    }
   ],
   "source": [
    "results_linear_poly3_r2 = []\n",
    "linear_poly = LinearRegression()\n",
    "for i in range(30):\n",
    "    kfold = KFold(n_splits=10, shuffle=True, random_state=i)\n",
    "    scores = cross_val_score(linear_poly, X_df_poly3, y_df, cv=kfold)\n",
    "    results_linear_poly3_r2.append(scores.mean())\n",
    "print(np.array(results_linear_poly3_r2).mean())\n",
    "results_linear_poly3_mae = []\n",
    "linear_poly = LinearRegression()\n",
    "for i in range(30):\n",
    "    kfold = KFold(n_splits=10, shuffle=True, random_state=i)\n",
    "    scores = cross_val_score(linear_poly, X_df_poly3, y_df, cv=kfold, scoring='neg_mean_absolute_error')\n",
    "    results_linear_poly3_mae.append(scores.mean())\n",
    "print(np.array(results_linear_poly3_mae).mean())"
   ]
  },
  {
   "cell_type": "markdown",
   "id": "f9f3052f",
   "metadata": {},
   "source": [
    "And for order 4."
   ]
  },
  {
   "cell_type": "code",
   "execution_count": 19,
   "id": "e5831256",
   "metadata": {},
   "outputs": [
    {
     "name": "stdout",
     "output_type": "stream",
     "text": [
      "-4.496082548727605e+18\n",
      "-135581426.59991658\n"
     ]
    }
   ],
   "source": [
    "results_linear_poly4_r2 = []\n",
    "linear_poly = LinearRegression()\n",
    "for i in range(30):\n",
    "    kfold = KFold(n_splits=10, shuffle=True, random_state=i)\n",
    "    scores = cross_val_score(linear_poly, X_df_poly4, y_df, cv=kfold)\n",
    "    results_linear_poly4_r2.append(scores.mean())\n",
    "print(np.array(results_linear_poly4_r2).mean())\n",
    "results_linear_poly4_mae = []\n",
    "linear_poly = LinearRegression()\n",
    "for i in range(30):\n",
    "    kfold = KFold(n_splits=10, shuffle=True, random_state=i)\n",
    "    scores = cross_val_score(linear_poly, X_df_poly4, y_df, cv=kfold, scoring='neg_mean_absolute_error')\n",
    "    results_linear_poly4_mae.append(scores.mean())\n",
    "print(np.array(results_linear_poly4_mae).mean())"
   ]
  },
  {
   "cell_type": "markdown",
   "id": "b9954273",
   "metadata": {},
   "source": [
    "We only obtain good results for degree 2, while degrees 3 and 4 have seemingly suffered from overfitting."
   ]
  },
  {
   "cell_type": "code",
   "execution_count": 21,
   "id": "b8b1d8f4",
   "metadata": {},
   "outputs": [
    {
     "data": {
      "text/plain": [
       "[0.8416430951822678,\n",
       " 0.8448912831122998,\n",
       " 0.8451924029370719,\n",
       " 0.841122800946076,\n",
       " 0.8468669782274783,\n",
       " 0.8439590114207729,\n",
       " 0.8497132198783273,\n",
       " 0.7862522739995611,\n",
       " 0.8407497070934629,\n",
       " 0.8457301268425432,\n",
       " 0.8347503894539997,\n",
       " 0.8473906446926129,\n",
       " 0.7965643938315285,\n",
       " 0.8394078802336262,\n",
       " 0.8439890779151558,\n",
       " 0.8435910286150021,\n",
       " 0.8492353942658413,\n",
       " 0.8450925123946517,\n",
       " 0.8464733106967876,\n",
       " 0.8430333258069682,\n",
       " 0.8416535116633757,\n",
       " 0.846560681906508,\n",
       " 0.8466896230403688,\n",
       " 0.849421334683177,\n",
       " 0.8510228775950756,\n",
       " 0.7244719834483011,\n",
       " 0.8523777626956377,\n",
       " 0.8495746299324974,\n",
       " 0.8464886871279054,\n",
       " 0.8379999273020058]"
      ]
     },
     "execution_count": 21,
     "metadata": {},
     "output_type": "execute_result"
    }
   ],
   "source": [
    "results_linear_poly2_r2"
   ]
  },
  {
   "cell_type": "code",
   "execution_count": 22,
   "id": "2f6b6bb0",
   "metadata": {},
   "outputs": [
    {
     "data": {
      "text/plain": [
       "[-0.28129954604891994,\n",
       " -0.2811432296967792,\n",
       " -0.2771449018123463,\n",
       " -0.27898464306440884,\n",
       " -0.27967020182845487,\n",
       " -0.2788676235172582,\n",
       " -0.27773819747647066,\n",
       " -0.28844283188444764,\n",
       " -0.28199802632637483,\n",
       " -0.2808157231939086,\n",
       " -0.28351873408679396,\n",
       " -0.2786751141825364,\n",
       " -0.2861903299752315,\n",
       " -0.2811195533846943,\n",
       " -0.2823171301917167,\n",
       " -0.2832742247046941,\n",
       " -0.27992314504627214,\n",
       " -0.2783911529612098,\n",
       " -0.27868344714931564,\n",
       " -0.2821559928835865,\n",
       " -0.28169685408556827,\n",
       " -0.28082229594905683,\n",
       " -0.2770392713643929,\n",
       " -0.27542121104198214,\n",
       " -0.27504569265503104,\n",
       " -0.2969035789707132,\n",
       " -0.2761338694834524,\n",
       " -0.2797164265705685,\n",
       " -0.2788711665899622,\n",
       " -0.28470496276371804]"
      ]
     },
     "execution_count": 22,
     "metadata": {},
     "output_type": "execute_result"
    }
   ],
   "source": [
    "results_linear_poly2_mae"
   ]
  },
  {
   "cell_type": "markdown",
   "id": "ef892dce",
   "metadata": {},
   "source": [
    "## 5) Decision Tree Regression"
   ]
  },
  {
   "cell_type": "markdown",
   "id": "ea883be7",
   "metadata": {},
   "source": [
    "Next, we will evaluate the decision tree regressor."
   ]
  },
  {
   "cell_type": "markdown",
   "id": "02b6720b",
   "metadata": {},
   "source": [
    "We import the preprocessed data."
   ]
  },
  {
   "cell_type": "code",
   "execution_count": 23,
   "id": "5388c1b4",
   "metadata": {},
   "outputs": [],
   "source": [
    "with open('bike_sharing.pkl', mode='rb') as f:\n",
    "    X_df, y_df = pickle.load(f)"
   ]
  },
  {
   "cell_type": "markdown",
   "id": "9567c41b",
   "metadata": {},
   "source": [
    "Since the decision tree regressor has many parameters that may affect the results, we use a grid search to find the ones that give us the best r2 score."
   ]
  },
  {
   "cell_type": "code",
   "execution_count": 28,
   "id": "c0c41c32",
   "metadata": {},
   "outputs": [
    {
     "data": {
      "text/plain": [
       "{'criterion': 'absolute_error',\n",
       " 'min_samples_leaf': 5,\n",
       " 'min_samples_split': 2,\n",
       " 'splitter': 'best'}"
      ]
     },
     "execution_count": 28,
     "metadata": {},
     "output_type": "execute_result"
    }
   ],
   "source": [
    "parameters = {'criterion': ['squared_error', 'absolute_error'],\n",
    "             'splitter': ['best', 'random'],\n",
    "             'min_samples_split': [2, 5, 10],\n",
    "             'min_samples_leaf': [1, 5, 10]}\n",
    "grid_search = GridSearchCV(estimator=DecisionTreeRegressor(), param_grid=parameters)\n",
    "grid_search.fit(X_df, y_df)\n",
    "best_parameters = grid_search.best_params_\n",
    "best_parameters"
   ]
  },
  {
   "cell_type": "markdown",
   "id": "c012f66b",
   "metadata": {},
   "source": [
    "Now we use these parameters to calculate de r2 score and mean absolute error with cross validation."
   ]
  },
  {
   "cell_type": "code",
   "execution_count": 30,
   "id": "659cfd1d",
   "metadata": {},
   "outputs": [
    {
     "data": {
      "text/plain": [
       "[0.8115563477327704,\n",
       " 0.7997884454714861,\n",
       " 0.8094307464383373,\n",
       " 0.7990245683684922,\n",
       " 0.7999955607917214,\n",
       " 0.8087717368443975,\n",
       " 0.8064222795593498,\n",
       " 0.7821187900833506,\n",
       " 0.8071532802579309,\n",
       " 0.8103176809570989,\n",
       " 0.8006028714928078,\n",
       " 0.7916659839129893,\n",
       " 0.8023334704963047,\n",
       " 0.7972425311084159,\n",
       " 0.8160636470510877,\n",
       " 0.7935616445583071,\n",
       " 0.8132545950621293,\n",
       " 0.8066621494272125,\n",
       " 0.8013182451189003,\n",
       " 0.8187724737878476,\n",
       " 0.7979856280954072,\n",
       " 0.7915668859255666,\n",
       " 0.8079194838710022,\n",
       " 0.7964071756068717,\n",
       " 0.7978144256524432,\n",
       " 0.8056778843762373,\n",
       " 0.7986825831439152,\n",
       " 0.7943778212093298,\n",
       " 0.790880199175237,\n",
       " 0.8093981426207535]"
      ]
     },
     "execution_count": 30,
     "metadata": {},
     "output_type": "execute_result"
    }
   ],
   "source": [
    "results_tree_r2 = []\n",
    "tree = DecisionTreeRegressor(criterion='absolute_error', min_samples_leaf=5, min_samples_split=2, splitter='best')\n",
    "for i in range(30):\n",
    "    kfold = KFold(n_splits=10, shuffle=True, random_state=i)\n",
    "    scores = cross_val_score(tree, X_df, y_df, cv=kfold)\n",
    "    results_tree_r2.append(scores.mean())\n",
    "results_tree_r2"
   ]
  },
  {
   "cell_type": "code",
   "execution_count": 31,
   "id": "e7531a6b",
   "metadata": {},
   "outputs": [
    {
     "data": {
      "text/plain": [
       "[-0.30935543492044365,\n",
       " -0.31169675310420686,\n",
       " -0.30253355720292563,\n",
       " -0.31094890386833035,\n",
       " -0.3097231702928759,\n",
       " -0.2977753302819409,\n",
       " -0.30877941673458265,\n",
       " -0.31965857557360533,\n",
       " -0.3012374350045733,\n",
       " -0.3023192644384722,\n",
       " -0.3120285674248911,\n",
       " -0.31369369201001246,\n",
       " -0.30986441131373077,\n",
       " -0.31314934440138786,\n",
       " -0.30473780834136627,\n",
       " -0.3148149566674993,\n",
       " -0.30647316377024175,\n",
       " -0.3006904720871098,\n",
       " -0.31219403949729113,\n",
       " -0.2969211379031155,\n",
       " -0.31463956363378204,\n",
       " -0.3159906646919838,\n",
       " -0.31021875936486726,\n",
       " -0.3137842046455294,\n",
       " -0.30873249895462773,\n",
       " -0.3075157492279998,\n",
       " -0.31353511440807963,\n",
       " -0.3198739249802039,\n",
       " -0.31494641060024997,\n",
       " -0.3047250043247842]"
      ]
     },
     "execution_count": 31,
     "metadata": {},
     "output_type": "execute_result"
    }
   ],
   "source": [
    "results_tree_mae = []\n",
    "tree = DecisionTreeRegressor(criterion='absolute_error', min_samples_leaf=5, min_samples_split=2, splitter='best')\n",
    "for i in range(30):\n",
    "    kfold = KFold(n_splits=10, shuffle=True, random_state=i)\n",
    "    scores = cross_val_score(tree, X_df, y_df, cv=kfold, scoring='neg_mean_absolute_error')\n",
    "    results_tree_mae.append(scores.mean())\n",
    "results_tree_mae"
   ]
  },
  {
   "cell_type": "markdown",
   "id": "ecea9ecf",
   "metadata": {},
   "source": [
    "## 6) Random Forest Regression "
   ]
  },
  {
   "cell_type": "markdown",
   "id": "a111c323",
   "metadata": {},
   "source": [
    "The next algorithm we are going to test is the random forest regressor."
   ]
  },
  {
   "cell_type": "markdown",
   "id": "1d741341",
   "metadata": {},
   "source": [
    "Let us first load the data."
   ]
  },
  {
   "cell_type": "code",
   "execution_count": 32,
   "id": "d53fdae8",
   "metadata": {},
   "outputs": [],
   "source": [
    "with open('bike_sharing.pkl', mode='rb') as f:\n",
    "    X_df, y_df = pickle.load(f)"
   ]
  },
  {
   "cell_type": "markdown",
   "id": "da87ae79",
   "metadata": {},
   "source": [
    "We then tune the parameters."
   ]
  },
  {
   "cell_type": "code",
   "execution_count": 37,
   "id": "91f7ddf2",
   "metadata": {},
   "outputs": [
    {
     "data": {
      "text/plain": [
       "{'criterion': 'absolute_error',\n",
       " 'min_samples_leaf': 1,\n",
       " 'min_samples_split': 2,\n",
       " 'n_estimators': 150}"
      ]
     },
     "execution_count": 37,
     "metadata": {},
     "output_type": "execute_result"
    }
   ],
   "source": [
    "parameters = {'criterion': ['squared_error', 'absolute_error'],\n",
    "             'n_estimators': [10, 40, 100, 150],\n",
    "             'min_samples_split': [2, 5, 10],\n",
    "             'min_samples_leaf': [1, 5, 10]}\n",
    "grid_search = GridSearchCV(estimator=RandomForestRegressor(), param_grid=parameters)\n",
    "grid_search.fit(X_df, y_df.ravel())\n",
    "best_parameters = grid_search.best_params_\n",
    "best_parameters"
   ]
  },
  {
   "cell_type": "markdown",
   "id": "586e4935",
   "metadata": {},
   "source": [
    "And then we use cross validation to calculate the r2 score and the mean absolute error."
   ]
  },
  {
   "cell_type": "code",
   "execution_count": 39,
   "id": "bc5d3606",
   "metadata": {},
   "outputs": [
    {
     "data": {
      "text/plain": [
       "[0.8820946822286541,\n",
       " 0.878528009840112,\n",
       " 0.8762082049664139,\n",
       " 0.8807425650546072,\n",
       " 0.8816660952401365,\n",
       " 0.8752482161797881,\n",
       " 0.8796499064267325,\n",
       " 0.8722633148019592,\n",
       " 0.8814557444293932,\n",
       " 0.8825914201392525,\n",
       " 0.8758967899805231,\n",
       " 0.8746503721720773,\n",
       " 0.8756056647997399,\n",
       " 0.8769962429524222,\n",
       " 0.8830443574122221,\n",
       " 0.8803085514536267,\n",
       " 0.8786314983504708,\n",
       " 0.8762888188698493,\n",
       " 0.8752287472769723,\n",
       " 0.8804576068942396,\n",
       " 0.8815753964539781,\n",
       " 0.8797987561298661,\n",
       " 0.8843963986977469,\n",
       " 0.8769306089720346,\n",
       " 0.8824944088030435,\n",
       " 0.8688803519851914,\n",
       " 0.8875235120021298,\n",
       " 0.881219059969364,\n",
       " 0.8748676414256733,\n",
       " 0.8783698226764818]"
      ]
     },
     "execution_count": 39,
     "metadata": {},
     "output_type": "execute_result"
    }
   ],
   "source": [
    "results_forest_r2 = []\n",
    "forest = RandomForestRegressor(criterion='absolute_error', min_samples_leaf=1, min_samples_split=2, n_estimators=150)\n",
    "for i in range(30):\n",
    "    kfold = KFold(n_splits=10, shuffle=True, random_state=i)\n",
    "    scores = cross_val_score(forest, X_df, y_df.ravel(), cv=kfold)\n",
    "    results_forest_r2.append(scores.mean())\n",
    "results_forest_r2"
   ]
  },
  {
   "cell_type": "code",
   "execution_count": 40,
   "id": "acf2b724",
   "metadata": {},
   "outputs": [
    {
     "data": {
      "text/plain": [
       "[-0.23711135616124546,\n",
       " -0.23395099942939618,\n",
       " -0.23717372906176845,\n",
       " -0.2347303067028464,\n",
       " -0.23423608444448457,\n",
       " -0.2346596906229847,\n",
       " -0.23589051335675518,\n",
       " -0.23998747873789833,\n",
       " -0.23374562724273895,\n",
       " -0.23370347687914478,\n",
       " -0.23636686883236657,\n",
       " -0.2389917958559232,\n",
       " -0.23810516459511724,\n",
       " -0.23530003415455597,\n",
       " -0.23744389754097434,\n",
       " -0.23442719836897222,\n",
       " -0.23672547344605815,\n",
       " -0.23624623395894476,\n",
       " -0.2345081036252359,\n",
       " -0.230621509607142,\n",
       " -0.23478283450353937,\n",
       " -0.23443147281316362,\n",
       " -0.23355199503561735,\n",
       " -0.23454981928338287,\n",
       " -0.23320799834817785,\n",
       " -0.2438185052683753,\n",
       " -0.23295441497508093,\n",
       " -0.23648386630684323,\n",
       " -0.2344598436388227,\n",
       " -0.23505451476193984]"
      ]
     },
     "execution_count": 40,
     "metadata": {},
     "output_type": "execute_result"
    }
   ],
   "source": [
    "results_forest_mae = []\n",
    "forest = RandomForestRegressor(criterion='absolute_error', min_samples_leaf=1, min_samples_split=2, n_estimators=150)\n",
    "for i in range(30):\n",
    "    kfold = KFold(n_splits=10, shuffle=True, random_state=i)\n",
    "    scores = cross_val_score(forest, X_df, y_df.ravel(), cv=kfold, scoring='neg_mean_absolute_error')\n",
    "    results_forest_mae.append(scores.mean())\n",
    "results_forest_mae"
   ]
  },
  {
   "cell_type": "markdown",
   "id": "c35ce5a0",
   "metadata": {},
   "source": [
    "## 7) Support Vector Regression"
   ]
  },
  {
   "cell_type": "markdown",
   "id": "ac2b9cca",
   "metadata": {},
   "source": [
    "Next, we are going to study the support vector regression algorithm."
   ]
  },
  {
   "cell_type": "markdown",
   "id": "319f66a0",
   "metadata": {},
   "source": [
    "We first load the data."
   ]
  },
  {
   "cell_type": "code",
   "execution_count": 41,
   "id": "3b8e30cc",
   "metadata": {},
   "outputs": [],
   "source": [
    "with open('bike_sharing.pkl', mode='rb') as f:\n",
    "    X_df, y_df = pickle.load(f)"
   ]
  },
  {
   "cell_type": "markdown",
   "id": "03a70524",
   "metadata": {},
   "source": [
    "The next step is to tune the parameters."
   ]
  },
  {
   "cell_type": "code",
   "execution_count": 43,
   "id": "f19a836e",
   "metadata": {},
   "outputs": [
    {
     "data": {
      "text/plain": [
       "{'C': 2.0, 'kernel': 'rbf', 'tol': 0.001}"
      ]
     },
     "execution_count": 43,
     "metadata": {},
     "output_type": "execute_result"
    }
   ],
   "source": [
    "parameters = {'tol': [0.001, 0.0001, 0.00001],\n",
    "             'C': [1.0, 1.5, 2.0],\n",
    "             'kernel': ['rbf', 'linear', 'poly', 'sigmoid']}\n",
    "grid_search = GridSearchCV(estimator=SVR(), param_grid=parameters)\n",
    "grid_search.fit(X_df, y_df.ravel())\n",
    "best_parameters = grid_search.best_params_\n",
    "best_parameters"
   ]
  },
  {
   "cell_type": "markdown",
   "id": "16c9487f",
   "metadata": {},
   "source": [
    "We then use these parameters to calculate the r2 score and the mean absolute error."
   ]
  },
  {
   "cell_type": "code",
   "execution_count": 44,
   "id": "207e9b08",
   "metadata": {},
   "outputs": [
    {
     "data": {
      "text/plain": [
       "[0.8983594281724591,\n",
       " 0.8980679002491543,\n",
       " 0.8906160284513442,\n",
       " 0.8930937873147989,\n",
       " 0.8981905625209008,\n",
       " 0.8945055532909094,\n",
       " 0.8948135699869274,\n",
       " 0.8923281037463168,\n",
       " 0.8909095265499959,\n",
       " 0.8980339976998097,\n",
       " 0.8929069702449921,\n",
       " 0.8962139709411614,\n",
       " 0.8930065462847827,\n",
       " 0.8873063133286963,\n",
       " 0.8955191099829335,\n",
       " 0.889450475194991,\n",
       " 0.8959635812981774,\n",
       " 0.8879243748970715,\n",
       " 0.8963121114264876,\n",
       " 0.8932192702028896,\n",
       " 0.8954904103098835,\n",
       " 0.8909079144070919,\n",
       " 0.8911598654730832,\n",
       " 0.89413059928051,\n",
       " 0.8947874618885562,\n",
       " 0.8921012560796644,\n",
       " 0.9003330566073178,\n",
       " 0.8956762575374135,\n",
       " 0.8929720896238817,\n",
       " 0.894738487798552]"
      ]
     },
     "execution_count": 44,
     "metadata": {},
     "output_type": "execute_result"
    }
   ],
   "source": [
    "results_svm_r2 = []\n",
    "svm = SVR(C=2.0, kernel='rbf', tol=0.001)\n",
    "for i in range(30):\n",
    "    kfold = KFold(n_splits=10, shuffle=True, random_state=i)\n",
    "    scores = cross_val_score(svm, X_df, y_df.ravel(), cv=kfold)\n",
    "    results_svm_r2.append(scores.mean())\n",
    "results_svm_r2"
   ]
  },
  {
   "cell_type": "code",
   "execution_count": 45,
   "id": "e6bd7675",
   "metadata": {},
   "outputs": [
    {
     "data": {
      "text/plain": [
       "[-0.2210267667381775,\n",
       " -0.2191739370047782,\n",
       " -0.22322171913586902,\n",
       " -0.22705498095393822,\n",
       " -0.22267664415168348,\n",
       " -0.2222627844216049,\n",
       " -0.22411310036809523,\n",
       " -0.22568635875122198,\n",
       " -0.22525533304083295,\n",
       " -0.21948254053573782,\n",
       " -0.2236748251700987,\n",
       " -0.22067687861615942,\n",
       " -0.2224411545198539,\n",
       " -0.22785058996994892,\n",
       " -0.22420439575002415,\n",
       " -0.2288395992519575,\n",
       " -0.22155786036973266,\n",
       " -0.225466783662787,\n",
       " -0.22173079236599985,\n",
       " -0.22341287038608065,\n",
       " -0.2242977941986815,\n",
       " -0.22448765729992046,\n",
       " -0.2252864305504166,\n",
       " -0.22193042362998444,\n",
       " -0.2239910164438789,\n",
       " -0.22455764079934543,\n",
       " -0.2192436031051832,\n",
       " -0.223807660343321,\n",
       " -0.22436476898165653,\n",
       " -0.22390212236005755]"
      ]
     },
     "execution_count": 45,
     "metadata": {},
     "output_type": "execute_result"
    }
   ],
   "source": [
    "results_svm_mae = []\n",
    "svm = SVR(C=2.0, kernel='rbf', tol=0.001)\n",
    "for i in range(30):\n",
    "    kfold = KFold(n_splits=10, shuffle=True, random_state=i)\n",
    "    scores = cross_val_score(svm, X_df, y_df.ravel(), cv=kfold, scoring='neg_mean_absolute_error')\n",
    "    results_svm_mae.append(scores.mean())\n",
    "results_svm_mae"
   ]
  },
  {
   "cell_type": "markdown",
   "id": "ae4429a9",
   "metadata": {},
   "source": [
    "## 8) Neural Network"
   ]
  },
  {
   "cell_type": "markdown",
   "id": "0e5cc069",
   "metadata": {},
   "source": [
    "The last algorithm we will test is the neural network regressor."
   ]
  },
  {
   "cell_type": "markdown",
   "id": "497a123a",
   "metadata": {},
   "source": [
    "We load the data."
   ]
  },
  {
   "cell_type": "code",
   "execution_count": 2,
   "id": "ece58c32",
   "metadata": {},
   "outputs": [],
   "source": [
    "with open('bike_sharing.pkl', mode='rb') as f:\n",
    "    X_df, y_df = pickle.load(f)"
   ]
  },
  {
   "cell_type": "markdown",
   "id": "7352b179",
   "metadata": {},
   "source": [
    "We now tune the parameters."
   ]
  },
  {
   "cell_type": "code",
   "execution_count": 7,
   "id": "abf463ee",
   "metadata": {},
   "outputs": [
    {
     "data": {
      "text/plain": [
       "{'activation': 'logistic',\n",
       " 'batch_size': 10,\n",
       " 'hidden_layer_sizes': [6, 6],\n",
       " 'max_iter': 1000,\n",
       " 'solver': 'adam'}"
      ]
     },
     "execution_count": 7,
     "metadata": {},
     "output_type": "execute_result"
    }
   ],
   "source": [
    "parameters = {'activation': ['relu', 'logistic', 'tanh'],\n",
    "             'solver': ['adam', 'sgd'],\n",
    "             'batch_size': [10, 56],\n",
    "             'hidden_layer_sizes': [[6, 6]],\n",
    "             'max_iter': [1000]}\n",
    "grid_search = GridSearchCV(estimator=MLPRegressor(), param_grid=parameters)\n",
    "grid_search.fit(X_df, y_df.ravel())\n",
    "best_parameters = grid_search.best_params_\n",
    "best_parameters"
   ]
  },
  {
   "cell_type": "markdown",
   "id": "9ca41a11",
   "metadata": {},
   "source": [
    "Then we use these parameters to calculate the r2 score and the mean absolute error."
   ]
  },
  {
   "cell_type": "code",
   "execution_count": 9,
   "id": "6ad9cf37",
   "metadata": {},
   "outputs": [
    {
     "data": {
      "text/plain": [
       "[0.863209963785569,\n",
       " 0.8630897838179532,\n",
       " 0.8699223856477936,\n",
       " 0.8623804257010734,\n",
       " 0.8657814522813189,\n",
       " 0.8670301000188294,\n",
       " 0.8796898829589852,\n",
       " 0.8675729024467269,\n",
       " 0.8689160246317196,\n",
       " 0.871227739504236,\n",
       " 0.8649703942731642,\n",
       " 0.8683190818886617,\n",
       " 0.8696887621763333,\n",
       " 0.8780005655349747,\n",
       " 0.8721092834469231,\n",
       " 0.8684552715215055,\n",
       " 0.8680712005009544,\n",
       " 0.8615704295745511,\n",
       " 0.8617086905282237,\n",
       " 0.8649906268680161,\n",
       " 0.8646008493867006,\n",
       " 0.8737954218545078,\n",
       " 0.8744674496985911,\n",
       " 0.8614934555738116,\n",
       " 0.8672986461833713,\n",
       " 0.8685587824735176,\n",
       " 0.8713936890692423,\n",
       " 0.8703251546181093,\n",
       " 0.8542079038374375,\n",
       " 0.8693059683421677]"
      ]
     },
     "execution_count": 9,
     "metadata": {},
     "output_type": "execute_result"
    }
   ],
   "source": [
    "results_neural_r2 = []\n",
    "neural = MLPRegressor(activation='logistic', batch_size=10, solver='adam', hidden_layer_sizes=[6, 6], max_iter=1000)\n",
    "for i in range(30):\n",
    "    kfold = KFold(n_splits=10, shuffle=True, random_state=i)\n",
    "    scores = cross_val_score(neural, X_df, y_df.ravel(), cv=kfold)\n",
    "    results_neural_r2.append(scores.mean())\n",
    "results_neural_r2"
   ]
  },
  {
   "cell_type": "code",
   "execution_count": 10,
   "id": "a77b34cc",
   "metadata": {},
   "outputs": [
    {
     "data": {
      "text/plain": [
       "[-0.2592840821563883,\n",
       " -0.2608850153076657,\n",
       " -0.2651230158257752,\n",
       " -0.2565385387354854,\n",
       " -0.24944257594428182,\n",
       " -0.2466618495317197,\n",
       " -0.2528734327777086,\n",
       " -0.26345027123441533,\n",
       " -0.25918862871972653,\n",
       " -0.2615009427042164,\n",
       " -0.25942633904376133,\n",
       " -0.25989732034507107,\n",
       " -0.26212570009535663,\n",
       " -0.265350022474169,\n",
       " -0.2572009637190221,\n",
       " -0.26156013162605735,\n",
       " -0.2524990938281052,\n",
       " -0.2636239807485411,\n",
       " -0.26411463875915075,\n",
       " -0.26219463914565544,\n",
       " -0.2457149749761593,\n",
       " -0.2526389407776619,\n",
       " -0.26494329716325365,\n",
       " -0.2645055498424798,\n",
       " -0.26518897424736165,\n",
       " -0.2656510333380064,\n",
       " -0.26064581413306165,\n",
       " -0.26496861812003525,\n",
       " -0.25849305288251595,\n",
       " -0.257284407949227]"
      ]
     },
     "execution_count": 10,
     "metadata": {},
     "output_type": "execute_result"
    }
   ],
   "source": [
    "results_neural_mae = []\n",
    "neural = MLPRegressor(activation='logistic', batch_size=10, solver='adam', hidden_layer_sizes=[6, 6], max_iter=1000)\n",
    "for i in range(30):\n",
    "    kfold = KFold(n_splits=10, shuffle=True, random_state=i)\n",
    "    scores = cross_val_score(neural, X_df, y_df.ravel(), cv=kfold, scoring='neg_mean_absolute_error')\n",
    "    results_neural_mae.append(scores.mean())\n",
    "results_neural_mae"
   ]
  },
  {
   "cell_type": "markdown",
   "id": "13256a04",
   "metadata": {},
   "source": [
    "## 9) Comparing the Algorithms"
   ]
  },
  {
   "cell_type": "markdown",
   "id": "93d3c440",
   "metadata": {},
   "source": [
    "Now that we have the results for different regressors, let us compare them."
   ]
  },
  {
   "cell_type": "code",
   "execution_count": 2,
   "id": "597a6f32",
   "metadata": {},
   "outputs": [],
   "source": [
    "results_linear_r2 = [0.7887860257313168,\n",
    " 0.786873176350368,\n",
    " 0.779987879178415,\n",
    " 0.787546367928318,\n",
    " 0.7907973006951963,\n",
    " 0.7841412613894462,\n",
    " 0.7878020257187426,\n",
    " 0.7852749504364296,\n",
    " 0.7873638656047981,\n",
    " 0.7845446864000702,\n",
    " 0.786651146201005,\n",
    " 0.7869258281934342,\n",
    " 0.7880955927602634,\n",
    " 0.7838263338611374,\n",
    " 0.7931361150262699,\n",
    " 0.7869187709947656,\n",
    " 0.787305101307115,\n",
    " 0.7832316169256268,\n",
    " 0.7833808872002975,\n",
    " 0.7888637565000808,\n",
    " 0.7874994117027556,\n",
    " 0.7864595804498856,\n",
    " 0.7873860544383191,\n",
    " 0.7849220942155488,\n",
    " 0.7851548308203954,\n",
    " 0.7846715400766613,\n",
    " 0.7886887380272977,\n",
    " 0.7834970757509592,\n",
    " 0.7854485723946067,\n",
    " 0.7869728965003794]\n",
    "results_linear_mae = [-0.3415625969973991,\n",
    " -0.34049646833121144,\n",
    " -0.34109516063152456,\n",
    " -0.3407426479547646,\n",
    " -0.34025472979243687,\n",
    " -0.33991107329545905,\n",
    " -0.3415644339611118,\n",
    " -0.34099451070391573,\n",
    " -0.3402665740072421,\n",
    " -0.3407923761888882,\n",
    " -0.3409866607369395,\n",
    " -0.3409631221781809,\n",
    " -0.3396394336788381,\n",
    " -0.34126050422820553,\n",
    " -0.3402724197562836,\n",
    " -0.3426375452698552,\n",
    " -0.3419276234351403,\n",
    " -0.3409160102153265,\n",
    " -0.3402555265992039,\n",
    " -0.34119879586101626,\n",
    " -0.34075208309112204,\n",
    " -0.34134032288466115,\n",
    " -0.34081622140602463,\n",
    " -0.34020501692028315,\n",
    " -0.339738281793884,\n",
    " -0.3419687821936018,\n",
    " -0.34040296297135225,\n",
    " -0.34297514734064566,\n",
    " -0.34081026093021033,\n",
    " -0.34217476563102023]\n",
    "results_linear_poly2_r2 = [0.8416430951822678,\n",
    " 0.8448912831122998,\n",
    " 0.8451924029370719,\n",
    " 0.841122800946076,\n",
    " 0.8468669782274783,\n",
    " 0.8439590114207729,\n",
    " 0.8497132198783273,\n",
    " 0.7862522739995611,\n",
    " 0.8407497070934629,\n",
    " 0.8457301268425432,\n",
    " 0.8347503894539997,\n",
    " 0.8473906446926129,\n",
    " 0.7965643938315285,\n",
    " 0.8394078802336262,\n",
    " 0.8439890779151558,\n",
    " 0.8435910286150021,\n",
    " 0.8492353942658413,\n",
    " 0.8450925123946517,\n",
    " 0.8464733106967876,\n",
    " 0.8430333258069682,\n",
    " 0.8416535116633757,\n",
    " 0.846560681906508,\n",
    " 0.8466896230403688,\n",
    " 0.849421334683177,\n",
    " 0.8510228775950756,\n",
    " 0.7244719834483011,\n",
    " 0.8523777626956377,\n",
    " 0.8495746299324974,\n",
    " 0.8464886871279054,\n",
    " 0.8379999273020058]\n",
    "results_linear_poly2_mae = [-0.28129954604891994,\n",
    " -0.2811432296967792,\n",
    " -0.2771449018123463,\n",
    " -0.27898464306440884,\n",
    " -0.27967020182845487,\n",
    " -0.2788676235172582,\n",
    " -0.27773819747647066,\n",
    " -0.28844283188444764,\n",
    " -0.28199802632637483,\n",
    " -0.2808157231939086,\n",
    " -0.28351873408679396,\n",
    " -0.2786751141825364,\n",
    " -0.2861903299752315,\n",
    " -0.2811195533846943,\n",
    " -0.2823171301917167,\n",
    " -0.2832742247046941,\n",
    " -0.27992314504627214,\n",
    " -0.2783911529612098,\n",
    " -0.27868344714931564,\n",
    " -0.2821559928835865,\n",
    " -0.28169685408556827,\n",
    " -0.28082229594905683,\n",
    " -0.2770392713643929,\n",
    " -0.27542121104198214,\n",
    " -0.27504569265503104,\n",
    " -0.2969035789707132,\n",
    " -0.2761338694834524,\n",
    " -0.2797164265705685,\n",
    " -0.2788711665899622,\n",
    " -0.28470496276371804]\n",
    "results_tree_r2 = [0.8115563477327704,\n",
    " 0.7997884454714861,\n",
    " 0.8094307464383373,\n",
    " 0.7990245683684922,\n",
    " 0.7999955607917214,\n",
    " 0.8087717368443975,\n",
    " 0.8064222795593498,\n",
    " 0.7821187900833506,\n",
    " 0.8071532802579309,\n",
    " 0.8103176809570989,\n",
    " 0.8006028714928078,\n",
    " 0.7916659839129893,\n",
    " 0.8023334704963047,\n",
    " 0.7972425311084159,\n",
    " 0.8160636470510877,\n",
    " 0.7935616445583071,\n",
    " 0.8132545950621293,\n",
    " 0.8066621494272125,\n",
    " 0.8013182451189003,\n",
    " 0.8187724737878476,\n",
    " 0.7979856280954072,\n",
    " 0.7915668859255666,\n",
    " 0.8079194838710022,\n",
    " 0.7964071756068717,\n",
    " 0.7978144256524432,\n",
    " 0.8056778843762373,\n",
    " 0.7986825831439152,\n",
    " 0.7943778212093298,\n",
    " 0.790880199175237,\n",
    " 0.8093981426207535]\n",
    "results_tree_mae = [-0.30935543492044365,\n",
    " -0.31169675310420686,\n",
    " -0.30253355720292563,\n",
    " -0.31094890386833035,\n",
    " -0.3097231702928759,\n",
    " -0.2977753302819409,\n",
    " -0.30877941673458265,\n",
    " -0.31965857557360533,\n",
    " -0.3012374350045733,\n",
    " -0.3023192644384722,\n",
    " -0.3120285674248911,\n",
    " -0.31369369201001246,\n",
    " -0.30986441131373077,\n",
    " -0.31314934440138786,\n",
    " -0.30473780834136627,\n",
    " -0.3148149566674993,\n",
    " -0.30647316377024175,\n",
    " -0.3006904720871098,\n",
    " -0.31219403949729113,\n",
    " -0.2969211379031155,\n",
    " -0.31463956363378204,\n",
    " -0.3159906646919838,\n",
    " -0.31021875936486726,\n",
    " -0.3137842046455294,\n",
    " -0.30873249895462773,\n",
    " -0.3075157492279998,\n",
    " -0.31353511440807963,\n",
    " -0.3198739249802039,\n",
    " -0.31494641060024997,\n",
    " -0.3047250043247842]\n",
    "results_forest_r2 = [0.8820946822286541,\n",
    " 0.878528009840112,\n",
    " 0.8762082049664139,\n",
    " 0.8807425650546072,\n",
    " 0.8816660952401365,\n",
    " 0.8752482161797881,\n",
    " 0.8796499064267325,\n",
    " 0.8722633148019592,\n",
    " 0.8814557444293932,\n",
    " 0.8825914201392525,\n",
    " 0.8758967899805231,\n",
    " 0.8746503721720773,\n",
    " 0.8756056647997399,\n",
    " 0.8769962429524222,\n",
    " 0.8830443574122221,\n",
    " 0.8803085514536267,\n",
    " 0.8786314983504708,\n",
    " 0.8762888188698493,\n",
    " 0.8752287472769723,\n",
    " 0.8804576068942396,\n",
    " 0.8815753964539781,\n",
    " 0.8797987561298661,\n",
    " 0.8843963986977469,\n",
    " 0.8769306089720346,\n",
    " 0.8824944088030435,\n",
    " 0.8688803519851914,\n",
    " 0.8875235120021298,\n",
    " 0.881219059969364,\n",
    " 0.8748676414256733,\n",
    " 0.8783698226764818]\n",
    "results_forest_mae = [-0.23711135616124546,\n",
    " -0.23395099942939618,\n",
    " -0.23717372906176845,\n",
    " -0.2347303067028464,\n",
    " -0.23423608444448457,\n",
    " -0.2346596906229847,\n",
    " -0.23589051335675518,\n",
    " -0.23998747873789833,\n",
    " -0.23374562724273895,\n",
    " -0.23370347687914478,\n",
    " -0.23636686883236657,\n",
    " -0.2389917958559232,\n",
    " -0.23810516459511724,\n",
    " -0.23530003415455597,\n",
    " -0.23744389754097434,\n",
    " -0.23442719836897222,\n",
    " -0.23672547344605815,\n",
    " -0.23624623395894476,\n",
    " -0.2345081036252359,\n",
    " -0.230621509607142,\n",
    " -0.23478283450353937,\n",
    " -0.23443147281316362,\n",
    " -0.23355199503561735,\n",
    " -0.23454981928338287,\n",
    " -0.23320799834817785,\n",
    " -0.2438185052683753,\n",
    " -0.23295441497508093,\n",
    " -0.23648386630684323,\n",
    " -0.2344598436388227,\n",
    " -0.23505451476193984]\n",
    "results_svm_r2 = [0.8983594281724591,\n",
    " 0.8980679002491543,\n",
    " 0.8906160284513442,\n",
    " 0.8930937873147989,\n",
    " 0.8981905625209008,\n",
    " 0.8945055532909094,\n",
    " 0.8948135699869274,\n",
    " 0.8923281037463168,\n",
    " 0.8909095265499959,\n",
    " 0.8980339976998097,\n",
    " 0.8929069702449921,\n",
    " 0.8962139709411614,\n",
    " 0.8930065462847827,\n",
    " 0.8873063133286963,\n",
    " 0.8955191099829335,\n",
    " 0.889450475194991,\n",
    " 0.8959635812981774,\n",
    " 0.8879243748970715,\n",
    " 0.8963121114264876,\n",
    " 0.8932192702028896,\n",
    " 0.8954904103098835,\n",
    " 0.8909079144070919,\n",
    " 0.8911598654730832,\n",
    " 0.89413059928051,\n",
    " 0.8947874618885562,\n",
    " 0.8921012560796644,\n",
    " 0.9003330566073178,\n",
    " 0.8956762575374135,\n",
    " 0.8929720896238817,\n",
    " 0.894738487798552]\n",
    "results_svm_mae = [-0.2210267667381775,\n",
    " -0.2191739370047782,\n",
    " -0.22322171913586902,\n",
    " -0.22705498095393822,\n",
    " -0.22267664415168348,\n",
    " -0.2222627844216049,\n",
    " -0.22411310036809523,\n",
    " -0.22568635875122198,\n",
    " -0.22525533304083295,\n",
    " -0.21948254053573782,\n",
    " -0.2236748251700987,\n",
    " -0.22067687861615942,\n",
    " -0.2224411545198539,\n",
    " -0.22785058996994892,\n",
    " -0.22420439575002415,\n",
    " -0.2288395992519575,\n",
    " -0.22155786036973266,\n",
    " -0.225466783662787,\n",
    " -0.22173079236599985,\n",
    " -0.22341287038608065,\n",
    " -0.2242977941986815,\n",
    " -0.22448765729992046,\n",
    " -0.2252864305504166,\n",
    " -0.22193042362998444,\n",
    " -0.2239910164438789,\n",
    " -0.22455764079934543,\n",
    " -0.2192436031051832,\n",
    " -0.223807660343321,\n",
    " -0.22436476898165653,\n",
    " -0.22390212236005755]\n",
    "results_neural_r2 = [0.863209963785569,\n",
    " 0.8630897838179532,\n",
    " 0.8699223856477936,\n",
    " 0.8623804257010734,\n",
    " 0.8657814522813189,\n",
    " 0.8670301000188294,\n",
    " 0.8796898829589852,\n",
    " 0.8675729024467269,\n",
    " 0.8689160246317196,\n",
    " 0.871227739504236,\n",
    " 0.8649703942731642,\n",
    " 0.8683190818886617,\n",
    " 0.8696887621763333,\n",
    " 0.8780005655349747,\n",
    " 0.8721092834469231,\n",
    " 0.8684552715215055,\n",
    " 0.8680712005009544,\n",
    " 0.8615704295745511,\n",
    " 0.8617086905282237,\n",
    " 0.8649906268680161,\n",
    " 0.8646008493867006,\n",
    " 0.8737954218545078,\n",
    " 0.8744674496985911,\n",
    " 0.8614934555738116,\n",
    " 0.8672986461833713,\n",
    " 0.8685587824735176,\n",
    " 0.8713936890692423,\n",
    " 0.8703251546181093,\n",
    " 0.8542079038374375,\n",
    " 0.8693059683421677]\n",
    "results_neural_mae = [-0.2592840821563883,\n",
    " -0.2608850153076657,\n",
    " -0.2651230158257752,\n",
    " -0.2565385387354854,\n",
    " -0.24944257594428182,\n",
    " -0.2466618495317197,\n",
    " -0.2528734327777086,\n",
    " -0.26345027123441533,\n",
    " -0.25918862871972653,\n",
    " -0.2615009427042164,\n",
    " -0.25942633904376133,\n",
    " -0.25989732034507107,\n",
    " -0.26212570009535663,\n",
    " -0.265350022474169,\n",
    " -0.2572009637190221,\n",
    " -0.26156013162605735,\n",
    " -0.2524990938281052,\n",
    " -0.2636239807485411,\n",
    " -0.26411463875915075,\n",
    " -0.26219463914565544,\n",
    " -0.2457149749761593,\n",
    " -0.2526389407776619,\n",
    " -0.26494329716325365,\n",
    " -0.2645055498424798,\n",
    " -0.26518897424736165,\n",
    " -0.2656510333380064,\n",
    " -0.26064581413306165,\n",
    " -0.26496861812003525,\n",
    " -0.25849305288251595,\n",
    " -0.257284407949227]"
   ]
  },
  {
   "cell_type": "code",
   "execution_count": 4,
   "id": "ca45fd49",
   "metadata": {},
   "outputs": [
    {
     "data": {
      "text/html": [
       "<div>\n",
       "<style scoped>\n",
       "    .dataframe tbody tr th:only-of-type {\n",
       "        vertical-align: middle;\n",
       "    }\n",
       "\n",
       "    .dataframe tbody tr th {\n",
       "        vertical-align: top;\n",
       "    }\n",
       "\n",
       "    .dataframe thead th {\n",
       "        text-align: right;\n",
       "    }\n",
       "</style>\n",
       "<table border=\"1\" class=\"dataframe\">\n",
       "  <thead>\n",
       "    <tr style=\"text-align: right;\">\n",
       "      <th></th>\n",
       "      <th>Linear</th>\n",
       "      <th>Polynomial</th>\n",
       "      <th>Tree</th>\n",
       "      <th>Forest</th>\n",
       "      <th>SVM</th>\n",
       "      <th>Neural</th>\n",
       "    </tr>\n",
       "  </thead>\n",
       "  <tbody>\n",
       "    <tr>\n",
       "      <th>count</th>\n",
       "      <td>30.000000</td>\n",
       "      <td>30.000000</td>\n",
       "      <td>30.000000</td>\n",
       "      <td>30.000000</td>\n",
       "      <td>30.000000</td>\n",
       "      <td>30.000000</td>\n",
       "    </tr>\n",
       "    <tr>\n",
       "      <th>mean</th>\n",
       "      <td>0.786405</td>\n",
       "      <td>0.837397</td>\n",
       "      <td>0.802226</td>\n",
       "      <td>0.878787</td>\n",
       "      <td>0.893968</td>\n",
       "      <td>0.867738</td>\n",
       "    </tr>\n",
       "    <tr>\n",
       "      <th>std</th>\n",
       "      <td>0.002531</td>\n",
       "      <td>0.025616</td>\n",
       "      <td>0.008345</td>\n",
       "      <td>0.003902</td>\n",
       "      <td>0.003136</td>\n",
       "      <td>0.005227</td>\n",
       "    </tr>\n",
       "    <tr>\n",
       "      <th>min</th>\n",
       "      <td>0.779988</td>\n",
       "      <td>0.724472</td>\n",
       "      <td>0.782119</td>\n",
       "      <td>0.868880</td>\n",
       "      <td>0.887306</td>\n",
       "      <td>0.854208</td>\n",
       "    </tr>\n",
       "    <tr>\n",
       "      <th>25%</th>\n",
       "      <td>0.784734</td>\n",
       "      <td>0.841253</td>\n",
       "      <td>0.797386</td>\n",
       "      <td>0.875975</td>\n",
       "      <td>0.892158</td>\n",
       "      <td>0.864693</td>\n",
       "    </tr>\n",
       "    <tr>\n",
       "      <th>50%</th>\n",
       "      <td>0.786896</td>\n",
       "      <td>0.844992</td>\n",
       "      <td>0.800961</td>\n",
       "      <td>0.879141</td>\n",
       "      <td>0.894318</td>\n",
       "      <td>0.868195</td>\n",
       "    </tr>\n",
       "    <tr>\n",
       "      <th>75%</th>\n",
       "      <td>0.787535</td>\n",
       "      <td>0.846823</td>\n",
       "      <td>0.808559</td>\n",
       "      <td>0.881545</td>\n",
       "      <td>0.895892</td>\n",
       "      <td>0.870224</td>\n",
       "    </tr>\n",
       "    <tr>\n",
       "      <th>max</th>\n",
       "      <td>0.793136</td>\n",
       "      <td>0.852378</td>\n",
       "      <td>0.818772</td>\n",
       "      <td>0.887524</td>\n",
       "      <td>0.900333</td>\n",
       "      <td>0.879690</td>\n",
       "    </tr>\n",
       "  </tbody>\n",
       "</table>\n",
       "</div>"
      ],
      "text/plain": [
       "          Linear  Polynomial       Tree     Forest        SVM     Neural\n",
       "count  30.000000   30.000000  30.000000  30.000000  30.000000  30.000000\n",
       "mean    0.786405    0.837397   0.802226   0.878787   0.893968   0.867738\n",
       "std     0.002531    0.025616   0.008345   0.003902   0.003136   0.005227\n",
       "min     0.779988    0.724472   0.782119   0.868880   0.887306   0.854208\n",
       "25%     0.784734    0.841253   0.797386   0.875975   0.892158   0.864693\n",
       "50%     0.786896    0.844992   0.800961   0.879141   0.894318   0.868195\n",
       "75%     0.787535    0.846823   0.808559   0.881545   0.895892   0.870224\n",
       "max     0.793136    0.852378   0.818772   0.887524   0.900333   0.879690"
      ]
     },
     "execution_count": 4,
     "metadata": {},
     "output_type": "execute_result"
    }
   ],
   "source": [
    "results_r2 = pd.DataFrame({'Linear': results_linear_r2,\n",
    "                          'Polynomial': results_linear_poly2_r2,\n",
    "                          'Tree': results_tree_r2,\n",
    "                          'Forest': results_forest_r2,\n",
    "                          'SVM': results_svm_r2,\n",
    "                          'Neural': results_neural_r2})\n",
    "results_r2.describe()"
   ]
  },
  {
   "cell_type": "code",
   "execution_count": 5,
   "id": "34956bdc",
   "metadata": {},
   "outputs": [
    {
     "data": {
      "text/html": [
       "<div>\n",
       "<style scoped>\n",
       "    .dataframe tbody tr th:only-of-type {\n",
       "        vertical-align: middle;\n",
       "    }\n",
       "\n",
       "    .dataframe tbody tr th {\n",
       "        vertical-align: top;\n",
       "    }\n",
       "\n",
       "    .dataframe thead th {\n",
       "        text-align: right;\n",
       "    }\n",
       "</style>\n",
       "<table border=\"1\" class=\"dataframe\">\n",
       "  <thead>\n",
       "    <tr style=\"text-align: right;\">\n",
       "      <th></th>\n",
       "      <th>Linear</th>\n",
       "      <th>Polynomial</th>\n",
       "      <th>Tree</th>\n",
       "      <th>Forest</th>\n",
       "      <th>SVM</th>\n",
       "      <th>Neural</th>\n",
       "    </tr>\n",
       "  </thead>\n",
       "  <tbody>\n",
       "    <tr>\n",
       "      <th>count</th>\n",
       "      <td>30.000000</td>\n",
       "      <td>30.000000</td>\n",
       "      <td>30.000000</td>\n",
       "      <td>30.000000</td>\n",
       "      <td>30.000000</td>\n",
       "      <td>30.000000</td>\n",
       "    </tr>\n",
       "    <tr>\n",
       "      <th>mean</th>\n",
       "      <td>-0.340964</td>\n",
       "      <td>-0.280890</td>\n",
       "      <td>-0.309419</td>\n",
       "      <td>-0.235574</td>\n",
       "      <td>-0.223523</td>\n",
       "      <td>-0.259433</td>\n",
       "    </tr>\n",
       "    <tr>\n",
       "      <th>std</th>\n",
       "      <td>0.000807</td>\n",
       "      <td>0.004282</td>\n",
       "      <td>0.005946</td>\n",
       "      <td>0.002479</td>\n",
       "      <td>0.002347</td>\n",
       "      <td>0.005621</td>\n",
       "    </tr>\n",
       "    <tr>\n",
       "      <th>min</th>\n",
       "      <td>-0.342975</td>\n",
       "      <td>-0.296904</td>\n",
       "      <td>-0.319874</td>\n",
       "      <td>-0.243819</td>\n",
       "      <td>-0.228840</td>\n",
       "      <td>-0.265651</td>\n",
       "    </tr>\n",
       "    <tr>\n",
       "      <th>25%</th>\n",
       "      <td>-0.341320</td>\n",
       "      <td>-0.282117</td>\n",
       "      <td>-0.313654</td>\n",
       "      <td>-0.236665</td>\n",
       "      <td>-0.224540</td>\n",
       "      <td>-0.263992</td>\n",
       "    </tr>\n",
       "    <tr>\n",
       "      <th>50%</th>\n",
       "      <td>-0.340866</td>\n",
       "      <td>-0.280369</td>\n",
       "      <td>-0.310042</td>\n",
       "      <td>-0.234757</td>\n",
       "      <td>-0.223855</td>\n",
       "      <td>-0.260765</td>\n",
       "    </tr>\n",
       "    <tr>\n",
       "      <th>75%</th>\n",
       "      <td>-0.340305</td>\n",
       "      <td>-0.278677</td>\n",
       "      <td>-0.305172</td>\n",
       "      <td>-0.234284</td>\n",
       "      <td>-0.222014</td>\n",
       "      <td>-0.257222</td>\n",
       "    </tr>\n",
       "    <tr>\n",
       "      <th>max</th>\n",
       "      <td>-0.339639</td>\n",
       "      <td>-0.275046</td>\n",
       "      <td>-0.296921</td>\n",
       "      <td>-0.230622</td>\n",
       "      <td>-0.219174</td>\n",
       "      <td>-0.245715</td>\n",
       "    </tr>\n",
       "  </tbody>\n",
       "</table>\n",
       "</div>"
      ],
      "text/plain": [
       "          Linear  Polynomial       Tree     Forest        SVM     Neural\n",
       "count  30.000000   30.000000  30.000000  30.000000  30.000000  30.000000\n",
       "mean   -0.340964   -0.280890  -0.309419  -0.235574  -0.223523  -0.259433\n",
       "std     0.000807    0.004282   0.005946   0.002479   0.002347   0.005621\n",
       "min    -0.342975   -0.296904  -0.319874  -0.243819  -0.228840  -0.265651\n",
       "25%    -0.341320   -0.282117  -0.313654  -0.236665  -0.224540  -0.263992\n",
       "50%    -0.340866   -0.280369  -0.310042  -0.234757  -0.223855  -0.260765\n",
       "75%    -0.340305   -0.278677  -0.305172  -0.234284  -0.222014  -0.257222\n",
       "max    -0.339639   -0.275046  -0.296921  -0.230622  -0.219174  -0.245715"
      ]
     },
     "execution_count": 5,
     "metadata": {},
     "output_type": "execute_result"
    }
   ],
   "source": [
    "results_mae = pd.DataFrame({'Linear': results_linear_mae,\n",
    "                          'Polynomial': results_linear_poly2_mae,\n",
    "                          'Tree': results_tree_mae,\n",
    "                          'Forest': results_forest_mae,\n",
    "                          'SVM': results_svm_mae,\n",
    "                          'Neural': results_neural_mae})\n",
    "results_mae.describe()"
   ]
  },
  {
   "cell_type": "markdown",
   "id": "e046c834",
   "metadata": {},
   "source": [
    "We obtain that the SVM algorithm has the best results, both for the r2 score and the mean absolute error. However, before we conclude that this is the best regressor for this problem, we must verify if the results are statistically distinct from each other using the ANOVA and Tukey tests. And before we do that we must use the Shapiro test to verify if the results are normally distributed (null hypothesis) or not (alternative hypothesis)."
   ]
  },
  {
   "cell_type": "code",
   "execution_count": 15,
   "id": "c4cb8995",
   "metadata": {},
   "outputs": [
    {
     "name": "stdout",
     "output_type": "stream",
     "text": [
      "ShapiroResult(statistic=0.9657739400863647, pvalue=0.43087470531463623)\n",
      "ShapiroResult(statistic=0.48578548431396484, pvalue=3.803669823554401e-09)\n",
      "ShapiroResult(statistic=0.984218418598175, pvalue=0.9231469035148621)\n",
      "ShapiroResult(statistic=0.9790739417076111, pvalue=0.8004271984100342)\n",
      "ShapiroResult(statistic=0.9838512539863586, pvalue=0.9160531163215637)\n",
      "ShapiroResult(statistic=0.9766311645507812, pvalue=0.7306750416755676)\n"
     ]
    }
   ],
   "source": [
    "print(shapiro(results_linear_r2))\n",
    "print(shapiro(results_linear_poly2_r2))\n",
    "print(shapiro(results_tree_r2))\n",
    "print(shapiro(results_forest_r2))\n",
    "print(shapiro(results_svm_r2))\n",
    "print(shapiro(results_neural_r2))"
   ]
  },
  {
   "cell_type": "code",
   "execution_count": 7,
   "id": "b49688ed",
   "metadata": {},
   "outputs": [
    {
     "name": "stdout",
     "output_type": "stream",
     "text": [
      "ShapiroResult(statistic=0.9595112204551697, pvalue=0.30097341537475586)\n",
      "ShapiroResult(statistic=0.8507278561592102, pvalue=0.000642197672277689)\n",
      "ShapiroResult(statistic=0.9645681977272034, pvalue=0.40294256806373596)\n",
      "ShapiroResult(statistic=0.9043266177177429, pvalue=0.010733725503087044)\n",
      "ShapiroResult(statistic=0.9741420745849609, pvalue=0.6574733853340149)\n",
      "ShapiroResult(statistic=0.8848605155944824, pvalue=0.0036525032483041286)\n"
     ]
    }
   ],
   "source": [
    "print(shapiro(results_linear_mae))\n",
    "print(shapiro(results_linear_poly2_mae))\n",
    "print(shapiro(results_tree_mae))\n",
    "print(shapiro(results_forest_mae))\n",
    "print(shapiro(results_svm_mae))\n",
    "print(shapiro(results_neural_mae))"
   ]
  },
  {
   "cell_type": "markdown",
   "id": "d3ed9747",
   "metadata": {},
   "source": [
    "If the p-value is smaller than 0.05, we reject the null hypothesis, otherwise we accept it. We can see that the only results that are not normaly distributed are the r2 score and mean absolute error of the polynomial regressor, the mean absolute error of the random forest regressor and the mean absolute error of the neural network regressor. Let us now plot these results to see if they are at least close to a normal distribution."
   ]
  },
  {
   "cell_type": "code",
   "execution_count": 10,
   "id": "4d02f6d7",
   "metadata": {},
   "outputs": [
    {
     "data": {
      "image/png": "[encoded data removed]",
      "text/plain": [
       "<Figure size 360x360 with 1 Axes>"
      ]
     },
     "metadata": {
      "needs_background": "light"
     },
     "output_type": "display_data"
    }
   ],
   "source": [
    "sns.displot(results_linear_poly2_r2, kind='kde');"
   ]
  },
  {
   "cell_type": "code",
   "execution_count": 11,
   "id": "270aa6b7",
   "metadata": {},
   "outputs": [
    {
     "data": {
      "image/png": "[encoded data removed]",
      "text/plain": [
       "<Figure size 360x360 with 1 Axes>"
      ]
     },
     "metadata": {
      "needs_background": "light"
     },
     "output_type": "display_data"
    }
   ],
   "source": [
    "sns.displot(results_linear_poly2_mae, kind='kde');"
   ]
  },
  {
   "cell_type": "code",
   "execution_count": 13,
   "id": "7e2c104d",
   "metadata": {},
   "outputs": [
    {
     "data": {
      "image/png": "[encoded data removed]",
      "text/plain": [
       "<Figure size 360x360 with 1 Axes>"
      ]
     },
     "metadata": {
      "needs_background": "light"
     },
     "output_type": "display_data"
    }
   ],
   "source": [
    "sns.displot(results_forest_mae, kind='kde');"
   ]
  },
  {
   "cell_type": "code",
   "execution_count": 14,
   "id": "21004850",
   "metadata": {},
   "outputs": [
    {
     "data": {
      "image/png": "[encoded data removed]",
      "text/plain": [
       "<Figure size 360x360 with 1 Axes>"
      ]
     },
     "metadata": {
      "needs_background": "light"
     },
     "output_type": "display_data"
    }
   ],
   "source": [
    "sns.displot(results_neural_mae, kind='kde');"
   ]
  },
  {
   "cell_type": "markdown",
   "id": "2596902c",
   "metadata": {},
   "source": [
    "We can see that even these results are still close to a normal distribution. Therefore, we now do the ANOVA test to verify if the results we obtained are statistically the same (null hypothesis) or if they are statistically distinct (alternative hypothesis)."
   ]
  },
  {
   "cell_type": "code",
   "execution_count": 16,
   "id": "3e36afe9",
   "metadata": {},
   "outputs": [
    {
     "name": "stdout",
     "output_type": "stream",
     "text": [
      "F_onewayResult(statistic=430.15195016172123, pvalue=6.276865461436745e-96)\n"
     ]
    }
   ],
   "source": [
    "print(f_oneway(results_linear_r2, results_linear_poly2_r2, results_tree_r2, results_forest_r2, results_svm_r2, results_neural_r2))"
   ]
  },
  {
   "cell_type": "code",
   "execution_count": 17,
   "id": "fa275aa5",
   "metadata": {},
   "outputs": [
    {
     "name": "stdout",
     "output_type": "stream",
     "text": [
      "F_onewayResult(statistic=3695.4260263104375, pvalue=1.4632941258000453e-174)\n"
     ]
    }
   ],
   "source": [
    "print(f_oneway(results_linear_mae, results_linear_poly2_mae, results_tree_mae, results_forest_mae, results_svm_mae, results_neural_mae))"
   ]
  },
  {
   "cell_type": "markdown",
   "id": "0ab47439",
   "metadata": {},
   "source": [
    "Since the p-value is smaller than 0.05, we reject the null hypothesis, that is, the results are statistically distinct."
   ]
  },
  {
   "cell_type": "markdown",
   "id": "449aa233",
   "metadata": {},
   "source": [
    "Now we do the Tukey test to compare each set of results with each other one and verify if they are statistically the same (null hypothesis) or not (alternative hypothesis)."
   ]
  },
  {
   "cell_type": "code",
   "execution_count": 21,
   "id": "22468394",
   "metadata": {},
   "outputs": [
    {
     "data": {
      "text/html": [
       "<div>\n",
       "<style scoped>\n",
       "    .dataframe tbody tr th:only-of-type {\n",
       "        vertical-align: middle;\n",
       "    }\n",
       "\n",
       "    .dataframe tbody tr th {\n",
       "        vertical-align: top;\n",
       "    }\n",
       "\n",
       "    .dataframe thead th {\n",
       "        text-align: right;\n",
       "    }\n",
       "</style>\n",
       "<table border=\"1\" class=\"dataframe\">\n",
       "  <thead>\n",
       "    <tr style=\"text-align: right;\">\n",
       "      <th></th>\n",
       "      <th>r2</th>\n",
       "      <th>algorithm</th>\n",
       "    </tr>\n",
       "  </thead>\n",
       "  <tbody>\n",
       "    <tr>\n",
       "      <th>0</th>\n",
       "      <td>0.788786</td>\n",
       "      <td>linear</td>\n",
       "    </tr>\n",
       "    <tr>\n",
       "      <th>1</th>\n",
       "      <td>0.786873</td>\n",
       "      <td>linear</td>\n",
       "    </tr>\n",
       "    <tr>\n",
       "      <th>2</th>\n",
       "      <td>0.779988</td>\n",
       "      <td>linear</td>\n",
       "    </tr>\n",
       "    <tr>\n",
       "      <th>3</th>\n",
       "      <td>0.787546</td>\n",
       "      <td>linear</td>\n",
       "    </tr>\n",
       "    <tr>\n",
       "      <th>4</th>\n",
       "      <td>0.790797</td>\n",
       "      <td>linear</td>\n",
       "    </tr>\n",
       "    <tr>\n",
       "      <th>...</th>\n",
       "      <td>...</td>\n",
       "      <td>...</td>\n",
       "    </tr>\n",
       "    <tr>\n",
       "      <th>175</th>\n",
       "      <td>0.868559</td>\n",
       "      <td>neural</td>\n",
       "    </tr>\n",
       "    <tr>\n",
       "      <th>176</th>\n",
       "      <td>0.871394</td>\n",
       "      <td>neural</td>\n",
       "    </tr>\n",
       "    <tr>\n",
       "      <th>177</th>\n",
       "      <td>0.870325</td>\n",
       "      <td>neural</td>\n",
       "    </tr>\n",
       "    <tr>\n",
       "      <th>178</th>\n",
       "      <td>0.854208</td>\n",
       "      <td>neural</td>\n",
       "    </tr>\n",
       "    <tr>\n",
       "      <th>179</th>\n",
       "      <td>0.869306</td>\n",
       "      <td>neural</td>\n",
       "    </tr>\n",
       "  </tbody>\n",
       "</table>\n",
       "<p>180 rows × 2 columns</p>\n",
       "</div>"
      ],
      "text/plain": [
       "           r2 algorithm\n",
       "0    0.788786    linear\n",
       "1    0.786873    linear\n",
       "2    0.779988    linear\n",
       "3    0.787546    linear\n",
       "4    0.790797    linear\n",
       "..        ...       ...\n",
       "175  0.868559    neural\n",
       "176  0.871394    neural\n",
       "177  0.870325    neural\n",
       "178  0.854208    neural\n",
       "179  0.869306    neural\n",
       "\n",
       "[180 rows x 2 columns]"
      ]
     },
     "execution_count": 21,
     "metadata": {},
     "output_type": "execute_result"
    }
   ],
   "source": [
    "results_algorithms_r2 = {'r2': np.concatenate([results_linear_r2, results_linear_poly2_r2, results_tree_r2, results_forest_r2, results_svm_r2, results_neural_r2]),\n",
    "                      'algorithm': ['linear', 'linear', 'linear', 'linear', 'linear', 'linear', 'linear', 'linear', 'linear', 'linear', 'linear', 'linear', 'linear', 'linear', 'linear', 'linear', 'linear', 'linear', 'linear', 'linear', 'linear', 'linear', 'linear', 'linear', 'linear', 'linear', 'linear', 'linear', 'linear', 'linear', \n",
    "                                    'polynomial', 'polynomial', 'polynomial', 'polynomial', 'polynomial', 'polynomial', 'polynomial', 'polynomial', 'polynomial', 'polynomial', 'polynomial', 'polynomial', 'polynomial', 'polynomial', 'polynomial', 'polynomial', 'polynomial', 'polynomial', 'polynomial', 'polynomial', 'polynomial', 'polynomial', 'polynomial', 'polynomial', 'polynomial', 'polynomial', 'polynomial', 'polynomial', 'polynomial', 'polynomial', \n",
    "                                    'tree', 'tree', 'tree', 'tree', 'tree', 'tree', 'tree', 'tree', 'tree', 'tree', 'tree', 'tree', 'tree', 'tree', 'tree', 'tree', 'tree', 'tree', 'tree', 'tree', 'tree', 'tree', 'tree', 'tree', 'tree', 'tree', 'tree', 'tree', 'tree', 'tree',\n",
    "                                    'forest', 'forest', 'forest', 'forest', 'forest', 'forest', 'forest', 'forest', 'forest', 'forest', 'forest', 'forest', 'forest', 'forest', 'forest', 'forest', 'forest', 'forest', 'forest', 'forest', 'forest', 'forest', 'forest', 'forest', 'forest', 'forest', 'forest', 'forest', 'forest', 'forest',  \n",
    "                                    'svm', 'svm', 'svm', 'svm', 'svm', 'svm', 'svm', 'svm', 'svm', 'svm', 'svm', 'svm', 'svm', 'svm', 'svm', 'svm', 'svm', 'svm', 'svm', 'svm', 'svm', 'svm', 'svm', 'svm', 'svm', 'svm', 'svm', 'svm', 'svm', 'svm', \n",
    "                                    'neural', 'neural', 'neural', 'neural', 'neural', 'neural', 'neural', 'neural', 'neural', 'neural', 'neural', 'neural', 'neural', 'neural', 'neural', 'neural', 'neural', 'neural', 'neural', 'neural', 'neural', 'neural', 'neural', 'neural', 'neural', 'neural', 'neural', 'neural', 'neural', 'neural']}\n",
    "results_df_r2 = pd.DataFrame(results_algorithms_r2)\n",
    "results_df_r2"
   ]
  },
  {
   "cell_type": "code",
   "execution_count": 22,
   "id": "a7e254d2",
   "metadata": {},
   "outputs": [
    {
     "data": {
      "text/html": [
       "<div>\n",
       "<style scoped>\n",
       "    .dataframe tbody tr th:only-of-type {\n",
       "        vertical-align: middle;\n",
       "    }\n",
       "\n",
       "    .dataframe tbody tr th {\n",
       "        vertical-align: top;\n",
       "    }\n",
       "\n",
       "    .dataframe thead th {\n",
       "        text-align: right;\n",
       "    }\n",
       "</style>\n",
       "<table border=\"1\" class=\"dataframe\">\n",
       "  <thead>\n",
       "    <tr style=\"text-align: right;\">\n",
       "      <th></th>\n",
       "      <th>mae</th>\n",
       "      <th>algorithm</th>\n",
       "    </tr>\n",
       "  </thead>\n",
       "  <tbody>\n",
       "    <tr>\n",
       "      <th>0</th>\n",
       "      <td>-0.341563</td>\n",
       "      <td>linear</td>\n",
       "    </tr>\n",
       "    <tr>\n",
       "      <th>1</th>\n",
       "      <td>-0.340496</td>\n",
       "      <td>linear</td>\n",
       "    </tr>\n",
       "    <tr>\n",
       "      <th>2</th>\n",
       "      <td>-0.341095</td>\n",
       "      <td>linear</td>\n",
       "    </tr>\n",
       "    <tr>\n",
       "      <th>3</th>\n",
       "      <td>-0.340743</td>\n",
       "      <td>linear</td>\n",
       "    </tr>\n",
       "    <tr>\n",
       "      <th>4</th>\n",
       "      <td>-0.340255</td>\n",
       "      <td>linear</td>\n",
       "    </tr>\n",
       "    <tr>\n",
       "      <th>...</th>\n",
       "      <td>...</td>\n",
       "      <td>...</td>\n",
       "    </tr>\n",
       "    <tr>\n",
       "      <th>175</th>\n",
       "      <td>-0.265651</td>\n",
       "      <td>neural</td>\n",
       "    </tr>\n",
       "    <tr>\n",
       "      <th>176</th>\n",
       "      <td>-0.260646</td>\n",
       "      <td>neural</td>\n",
       "    </tr>\n",
       "    <tr>\n",
       "      <th>177</th>\n",
       "      <td>-0.264969</td>\n",
       "      <td>neural</td>\n",
       "    </tr>\n",
       "    <tr>\n",
       "      <th>178</th>\n",
       "      <td>-0.258493</td>\n",
       "      <td>neural</td>\n",
       "    </tr>\n",
       "    <tr>\n",
       "      <th>179</th>\n",
       "      <td>-0.257284</td>\n",
       "      <td>neural</td>\n",
       "    </tr>\n",
       "  </tbody>\n",
       "</table>\n",
       "<p>180 rows × 2 columns</p>\n",
       "</div>"
      ],
      "text/plain": [
       "          mae algorithm\n",
       "0   -0.341563    linear\n",
       "1   -0.340496    linear\n",
       "2   -0.341095    linear\n",
       "3   -0.340743    linear\n",
       "4   -0.340255    linear\n",
       "..        ...       ...\n",
       "175 -0.265651    neural\n",
       "176 -0.260646    neural\n",
       "177 -0.264969    neural\n",
       "178 -0.258493    neural\n",
       "179 -0.257284    neural\n",
       "\n",
       "[180 rows x 2 columns]"
      ]
     },
     "execution_count": 22,
     "metadata": {},
     "output_type": "execute_result"
    }
   ],
   "source": [
    "results_algorithms_mae = {'mae': np.concatenate([results_linear_mae, results_linear_poly2_mae, results_tree_mae, results_forest_mae, results_svm_mae, results_neural_mae]),\n",
    "                      'algorithm': ['linear', 'linear', 'linear', 'linear', 'linear', 'linear', 'linear', 'linear', 'linear', 'linear', 'linear', 'linear', 'linear', 'linear', 'linear', 'linear', 'linear', 'linear', 'linear', 'linear', 'linear', 'linear', 'linear', 'linear', 'linear', 'linear', 'linear', 'linear', 'linear', 'linear', \n",
    "                                    'polynomial', 'polynomial', 'polynomial', 'polynomial', 'polynomial', 'polynomial', 'polynomial', 'polynomial', 'polynomial', 'polynomial', 'polynomial', 'polynomial', 'polynomial', 'polynomial', 'polynomial', 'polynomial', 'polynomial', 'polynomial', 'polynomial', 'polynomial', 'polynomial', 'polynomial', 'polynomial', 'polynomial', 'polynomial', 'polynomial', 'polynomial', 'polynomial', 'polynomial', 'polynomial', \n",
    "                                    'tree', 'tree', 'tree', 'tree', 'tree', 'tree', 'tree', 'tree', 'tree', 'tree', 'tree', 'tree', 'tree', 'tree', 'tree', 'tree', 'tree', 'tree', 'tree', 'tree', 'tree', 'tree', 'tree', 'tree', 'tree', 'tree', 'tree', 'tree', 'tree', 'tree',\n",
    "                                    'forest', 'forest', 'forest', 'forest', 'forest', 'forest', 'forest', 'forest', 'forest', 'forest', 'forest', 'forest', 'forest', 'forest', 'forest', 'forest', 'forest', 'forest', 'forest', 'forest', 'forest', 'forest', 'forest', 'forest', 'forest', 'forest', 'forest', 'forest', 'forest', 'forest',  \n",
    "                                    'svm', 'svm', 'svm', 'svm', 'svm', 'svm', 'svm', 'svm', 'svm', 'svm', 'svm', 'svm', 'svm', 'svm', 'svm', 'svm', 'svm', 'svm', 'svm', 'svm', 'svm', 'svm', 'svm', 'svm', 'svm', 'svm', 'svm', 'svm', 'svm', 'svm', \n",
    "                                    'neural', 'neural', 'neural', 'neural', 'neural', 'neural', 'neural', 'neural', 'neural', 'neural', 'neural', 'neural', 'neural', 'neural', 'neural', 'neural', 'neural', 'neural', 'neural', 'neural', 'neural', 'neural', 'neural', 'neural', 'neural', 'neural', 'neural', 'neural', 'neural', 'neural']}\n",
    "results_df_mae = pd.DataFrame(results_algorithms_mae)\n",
    "results_df_mae"
   ]
  },
  {
   "cell_type": "code",
   "execution_count": 23,
   "id": "66a7c347",
   "metadata": {},
   "outputs": [
    {
     "name": "stdout",
     "output_type": "stream",
     "text": [
      "    Multiple Comparison of Means - Tukey HSD, FWER=0.05     \n",
      "============================================================\n",
      "  group1     group2   meandiff p-adj   lower   upper  reject\n",
      "------------------------------------------------------------\n",
      "    forest     linear  -0.0924   -0.0 -0.1009 -0.0839   True\n",
      "    forest     neural   -0.011 0.0033 -0.0196 -0.0025   True\n",
      "    forest polynomial  -0.0414   -0.0 -0.0499 -0.0329   True\n",
      "    forest        svm   0.0152    0.0  0.0067  0.0237   True\n",
      "    forest       tree  -0.0766   -0.0 -0.0851 -0.0681   True\n",
      "    linear     neural   0.0813   -0.0  0.0728  0.0898   True\n",
      "    linear polynomial    0.051   -0.0  0.0425  0.0595   True\n",
      "    linear        svm   0.1076   -0.0  0.0991  0.1161   True\n",
      "    linear       tree   0.0158    0.0  0.0073  0.0243   True\n",
      "    neural polynomial  -0.0303   -0.0 -0.0389 -0.0218   True\n",
      "    neural        svm   0.0262    0.0  0.0177  0.0347   True\n",
      "    neural       tree  -0.0655   -0.0  -0.074  -0.057   True\n",
      "polynomial        svm   0.0566   -0.0  0.0481  0.0651   True\n",
      "polynomial       tree  -0.0352   -0.0 -0.0437 -0.0267   True\n",
      "       svm       tree  -0.0917   -0.0 -0.1003 -0.0832   True\n",
      "------------------------------------------------------------\n"
     ]
    }
   ],
   "source": [
    "compare_algorithms_r2 = MultiComparison(results_df_r2['r2'], results_df_r2['algorithm'])\n",
    "print(compare_algorithms_r2.tukeyhsd())"
   ]
  },
  {
   "cell_type": "code",
   "execution_count": 25,
   "id": "c91917ea",
   "metadata": {},
   "outputs": [
    {
     "name": "stdout",
     "output_type": "stream",
     "text": [
      "    Multiple Comparison of Means - Tukey HSD, FWER=0.05    \n",
      "===========================================================\n",
      "  group1     group2   meandiff p-adj  lower   upper  reject\n",
      "-----------------------------------------------------------\n",
      "    forest     linear  -0.1054  -0.0 -0.1084 -0.1024   True\n",
      "    forest     neural  -0.0239  -0.0 -0.0269 -0.0209   True\n",
      "    forest polynomial  -0.0453  -0.0 -0.0483 -0.0423   True\n",
      "    forest        svm   0.0121  -0.0  0.0091  0.0151   True\n",
      "    forest       tree  -0.0738  -0.0 -0.0768 -0.0708   True\n",
      "    linear     neural   0.0815  -0.0  0.0785  0.0845   True\n",
      "    linear polynomial   0.0601  -0.0  0.0571  0.0631   True\n",
      "    linear        svm   0.1174  -0.0  0.1144  0.1204   True\n",
      "    linear       tree   0.0315  -0.0  0.0285  0.0345   True\n",
      "    neural polynomial  -0.0215  -0.0 -0.0245 -0.0185   True\n",
      "    neural        svm   0.0359  -0.0  0.0329  0.0389   True\n",
      "    neural       tree    -0.05  -0.0  -0.053  -0.047   True\n",
      "polynomial        svm   0.0574  -0.0  0.0544  0.0604   True\n",
      "polynomial       tree  -0.0285  -0.0 -0.0315 -0.0255   True\n",
      "       svm       tree  -0.0859  -0.0 -0.0889 -0.0829   True\n",
      "-----------------------------------------------------------\n"
     ]
    }
   ],
   "source": [
    "compare_algorithms_mae = MultiComparison(results_df_mae['mae'], results_df_mae['algorithm'])\n",
    "print(compare_algorithms_mae.tukeyhsd())"
   ]
  },
  {
   "cell_type": "markdown",
   "id": "8bb50ff6",
   "metadata": {},
   "source": [
    "Since the p-values are all smaller than 0.05, we conclude that the results of each algorithm are statistically distinct from the results of the others. Therefore, the best algorithm for this problem is the support vector regressor."
   ]
  },
  {
   "cell_type": "code",
   "execution_count": null,
   "id": "09294ec7",
   "metadata": {},
   "outputs": [],
   "source": []
  }
 ],
 "metadata": {
  "kernelspec": {
   "display_name": "Python 3 (ipykernel)",
   "language": "python",
   "name": "python3"
  },
  "language_info": {
   "codemirror_mode": {
    "name": "ipython",
    "version": 3
   },
   "file_extension": ".py",
   "mimetype": "text/x-python",
   "name": "python",
   "nbconvert_exporter": "python",
   "pygments_lexer": "ipython3",
   "version": "3.8.13"
  }
 },
 "nbformat": 4,
 "nbformat_minor": 5
}
